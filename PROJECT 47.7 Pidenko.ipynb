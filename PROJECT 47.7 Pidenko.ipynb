{
 "cells": [
  {
   "attachments": {},
   "cell_type": "markdown",
   "metadata": {},
   "source": [
    "## **PROJECT OD-1. Исследование каналов привлечения**\n",
    "<font size=\"5\" color=\"red\"><b>DAPR-1016</b> Pidenko Dmitry</font>"
   ]
  },
  {
   "attachments": {},
   "cell_type": "markdown",
   "metadata": {},
   "source": [
    "### ЛЕГЕНДА\n",
    "Продолжаем пробовать новые роли! На этот раз вы — маркетинговый аналитик в компании, предлагающей услуги клининга."
   ]
  },
  {
   "attachments": {},
   "cell_type": "markdown",
   "metadata": {},
   "source": [
    "### ЗАДАНИЕ\n",
    "*Предстоит сделать следующее:*\n",
    "\n",
    "1.Оценить количество ботов, которые заходят на наш сайт, и их долю от всего трафика.\n",
    "\n",
    "2.Определить, с каких источников и в какое время суток чаще всего заходят роботы."
   ]
  },
  {
   "attachments": {},
   "cell_type": "markdown",
   "metadata": {},
   "source": [
    "*Период анализа: с 1 сентября 2020 года по 30 сентября 2020 года*\n",
    "\n",
    "## *Подготавливаем данные*"
   ]
  },
  {
   "attachments": {},
   "cell_type": "markdown",
   "metadata": {},
   "source": [
    "<font size=\"5\" color=\"yellow\">Перед формированием параметров запроса импортируем библиотеки, которые понадобятся нам для работы:<b></font>"
   ]
  },
  {
   "cell_type": "code",
   "execution_count": 28,
   "metadata": {},
   "outputs": [],
   "source": [
    "#В ответ на запрос от API приходят данные в формате json. Для работы с этим форматом нам понадобится библиотека Json.\n",
    "import json \n",
    "#запрос мы будем делать не с помощью браузера, а через Python. Для этого  понадобится библиотека Requests.\n",
    "import requests\n",
    "#Импортируем библиотеку pprint, чтобы в более аккуратном виде отображать ответ от API.\n",
    "from pprint import pprint\n",
    "#Импортируем библиотеку Pandas и создаём датафрейм, для того чтобы обращаться с данными как с обычной таблицей.\n",
    "import pandas as pd\n",
    "#Библиотека matplotlib.pyplot подребуется для построения графиков \n",
    "import matplotlib.pyplot as plt\n"
   ]
  },
  {
   "attachments": {},
   "cell_type": "markdown",
   "metadata": {},
   "source": [
    "<font size=\"5\" color=\"yellow\">Следующим шагом нам нужно задать в переменной token в виде строки авторизационный токен, который мы получили ранее.<b></font>"
   ]
  },
  {
   "cell_type": "code",
   "execution_count": 29,
   "metadata": {},
   "outputs": [],
   "source": [
    "#Теперь создадим переменную token, cодержащую авторизационный ключ (токен), который мы получили после регистрации приложения.\n",
    "token = 'y0_AQAAAABjzbrxAAhSRgAAAADLeXue6m1bxVOZSMiw5nR6v6aekQcMVz8'\n",
    "#Создадим словарь headers, содержащий одну пару ключ: значение\n",
    "headers = {'Authorization': 'OAuth ' + token}"
   ]
  },
  {
   "attachments": {},
   "cell_type": "markdown",
   "metadata": {},
   "source": [
    "<font size=\"5\" color=\"yellow\">Зададим параметры для проведения анализа. Все параметры передадим в составе одного словаря. Назовём этот словарь params. <b></font>"
   ]
  },
  {
   "cell_type": "code",
   "execution_count": 30,
   "metadata": {},
   "outputs": [],
   "source": [
    "#Находим в справочнике нужные метрики: ym:s:visits (общее количество визитов), ym:s:users (общее количество пользователей),\n",
    "#ym:s:robotPercentage(доля роботов)\n",
    "params = {'metrics': 'ym:s:visits,ym:s:users,ym:s:robotPercentage',\n",
    "          \n",
    "#Находим в справочнике нужный список группировок: ym:s:isRobot (Посетитель предположительно является роботом), \n",
    "#ym:s:<attribution>TrafficSource (Источник трафика) <attribution> - first — атрибуцию используем по первому источнику;\n",
    "#ym:s:hour (Она группирует визиты по времени суток).\n",
    "          'dimensions': 'ym:s:firstTrafficSource,ym:s:hour',\n",
    "          \n",
    "#Дата начала сбора статистики date1 — 2020-09-01.\n",
    "          'date1': '2020-09-01', \n",
    "          \n",
    "#Дата окончания сбора статистики date2 — 2020-09-30.\n",
    "          'date2': '2020-09-30',  \n",
    "          \n",
    "#Номер счётчика, установленный на сайте ids - 30177909.  \n",
    "          'ids': 30177909,\n",
    "          \n",
    "#Управлять точностью получаемых данных при запросе к API Яндекс.Метрики можно с помощью параметра accuracy, передав в него значение full\n",
    "#Full означает, что берем данные по всем визитам для максимальной точности\n",
    "          'accuracy':'full',\n",
    "          \n",
    "#Максимально допустимое количество строк в отчёте 'limit' - это ограничение на количество возвращаемых результатов. \n",
    "#По умолчанию он равен 100, поэтому важно указать число намного больше.\n",
    "          'limit':100000}"
   ]
  },
  {
   "attachments": {},
   "cell_type": "markdown",
   "metadata": {},
   "source": [
    "<font size=\"5\" color=\"yellow\">После того как мы создали два словаря (один — для заголовков http, а другой — для параметров запроса) мы можем сделать запрос к API Метрики с помощью GET-запроса через библиотеку requests:. <b></font>"
   ]
  },
  {
   "cell_type": "code",
   "execution_count": 31,
   "metadata": {},
   "outputs": [
    {
     "name": "stdout",
     "output_type": "stream",
     "text": [
      "200\n"
     ]
    }
   ],
   "source": [
    "#Тип нашего запроса GET, его можно выполнить с помощью функции requests.get(). В неё мы передаём следующие параметры:\n",
    "#URL, по которому будем делать запрос, в нашем случае — это 'https://api-metrika.yandex.net/stat/v1/data'.\n",
    "#В аргументе params передаём заданные параметры запроса. Они хранятся в словаре params, который мы создали ранее.\n",
    "#В аргументе headers передаем заголовки http, которые мы задали в словаре headers.\n",
    "response = requests.get('https://api-metrika.yandex.net/stat/v1/data', params=params, headers=headers)\n",
    "\n",
    "# Строка print (response.status_code) нужна для того, чтобы возвратить код ответа, полученный от API. \n",
    "# Если этот код 200 — значит, запрос был составлен корректно и API передал ответ.\n",
    "print (response.status_code)"
   ]
  },
  {
   "attachments": {},
   "cell_type": "markdown",
   "metadata": {},
   "source": [
    "<font size=\"5\" color=\"yellow\">Получить данные ответа можно с помощью функции json(), примененной к запросу response. Это позволяет сразу же распознать формат json и переделать ответ из этого формата в объект Python. <b></font>"
   ]
  },
  {
   "cell_type": "code",
   "execution_count": 32,
   "metadata": {},
   "outputs": [],
   "source": [
    "#Запишем данные ответа в переменную metrika_data:\n",
    "metrika_data = response.json()"
   ]
  },
  {
   "cell_type": "code",
   "execution_count": 33,
   "metadata": {},
   "outputs": [
    {
     "name": "stdout",
     "output_type": "stream",
     "text": [
      "<class 'dict'>\n"
     ]
    }
   ],
   "source": [
    "#Посмотрим, какого типа данные хранятся в объекте metrika_data:\n",
    "print(type(metrika_data))"
   ]
  },
  {
   "cell_type": "code",
   "execution_count": 34,
   "metadata": {},
   "outputs": [
    {
     "name": "stdout",
     "output_type": "stream",
     "text": [
      "dict_keys(['query', 'data', 'total_rows', 'total_rows_rounded', 'sampled', 'contains_sensitive_data', 'sample_share', 'sample_size', 'sample_space', 'data_lag', 'totals', 'min', 'max'])\n"
     ]
    }
   ],
   "source": [
    "#Это словарь!Проверим, какие ключи есть в словаре metrika_data:\n",
    "print(metrika_data.keys())"
   ]
  },
  {
   "attachments": {},
   "cell_type": "markdown",
   "metadata": {},
   "source": [
    "<font size=\"5\" color=\"yellow\">Прежде всего нас интересует значение по ключу data. Именно там содержатся данные статистики посещаемости, полученные от API Яндекс.Метрики. Но есть и другие полезные параметры, например total_rows. В нём содержится количество строк, которые соответствуют нашему запросу: <b></font>"
   ]
  },
  {
   "cell_type": "code",
   "execution_count": 35,
   "metadata": {},
   "outputs": [
    {
     "name": "stdout",
     "output_type": "stream",
     "text": [
      "[{'dimensions': [{'icon_id': '2',\n",
      "                  'icon_type': 'traffic-source',\n",
      "                  'id': 'organic',\n",
      "                  'name': 'Search engine traffic'},\n",
      "                 {'id': '16', 'name': '16:00'}],\n",
      "  'metrics': [248.0, 241.0, 25.40322581]},\n",
      " {'dimensions': [{'icon_id': '2',\n",
      "                  'icon_type': 'traffic-source',\n",
      "                  'id': 'organic',\n",
      "                  'name': 'Search engine traffic'},\n",
      "                 {'id': '15', 'name': '15:00'}],\n",
      "  'metrics': [237.0, 231.0, 26.58227848]},\n",
      " {'dimensions': [{'icon_id': '2',\n",
      "                  'icon_type': 'traffic-source',\n",
      "                  'id': 'organic',\n",
      "                  'name': 'Search engine traffic'},\n",
      "                 {'id': '12', 'name': '12:00'}],\n",
      "  'metrics': [224.0, 209.0, 25.44642857]},\n",
      " {'dimensions': [{'icon_id': '2',\n",
      "                  'icon_type': 'traffic-source',\n",
      "                  'id': 'organic',\n",
      "                  'name': 'Search engine traffic'},\n",
      "                 {'id': '13', 'name': '13:00'}],\n",
      "  'metrics': [223.0, 208.0, 27.80269058]},\n",
      " {'dimensions': [{'icon_id': '2',\n",
      "                  'icon_type': 'traffic-source',\n",
      "                  'id': 'organic',\n",
      "                  'name': 'Search engine traffic'},\n",
      "                 {'id': '14', 'name': '14:00'}],\n",
      "  'metrics': [223.0, 216.0, 25.11210762]}]\n"
     ]
    }
   ],
   "source": [
    "#Посмотрим на данные статистики. Для этого с помощью pprint выведем значение по ключу data в словаре metrika_data:\n",
    "pprint(metrika_data['data'][0:5])"
   ]
  },
  {
   "attachments": {},
   "cell_type": "markdown",
   "metadata": {},
   "source": [
    "<font size=\"5\" color=\"yellow\">Далее будем работать с библиотекой pandas. Есть небольшая проблема в том, что dimensions содержит в себе список словарей: мы получаем словарь в словаре.Это достаточно сложная структура данных, которую по умолчанию Pandas не может преобразовать в удобную таблицу. Чтобы привести это к удобному для работы виду, сначала преобразуем данные в так называемый плоский вид, то есть избавимся от вложенных словарей. <b></font>"
   ]
  },
  {
   "cell_type": "code",
   "execution_count": 36,
   "metadata": {},
   "outputs": [],
   "source": [
    "#Избавляемся от вложенных словарей при помощи функции\n",
    "#Создаем функцию\n",
    "def getMetrikaDataInListOfDicts(metrika_data):\n",
    "    list_of_dicts = []\n",
    "    dimensions_list = metrika_data['query']['dimensions']\n",
    "    metrics_list = metrika_data['query']['metrics']\n",
    "    for data_item in metrika_data['data']:\n",
    "        d = {}\n",
    "        for i,dimension in enumerate(data_item['dimensions']):\n",
    "            d[dimensions_list[i]] = dimension['name']\n",
    "        for i,metric in enumerate(data_item['metrics']):\n",
    "            d[metrics_list[i]] = metric\n",
    "        list_of_dicts.append(d)\n",
    "    return list_of_dicts"
   ]
  },
  {
   "attachments": {},
   "cell_type": "markdown",
   "metadata": {},
   "source": [
    "<font size=\"5\" color=\"yellow\">Обратим внимание на использование функции enumerate(). Она позволяет сделать цикл по списку, при этом возвращая сам элемент списка, а также его индекс в этом списке. Это может быть удобно, если нужно сделать вывод информационного сообщения о количестве пройденных итераций цикла. Также эта функция бывает полезна, если нужно параллельно обращаться к соответствующему элементу другого списка, как в случае нашей функции getMetrikaDataInListOfDicts(). <b></font>"
   ]
  },
  {
   "cell_type": "code",
   "execution_count": 37,
   "metadata": {},
   "outputs": [
    {
     "name": "stdout",
     "output_type": "stream",
     "text": [
      "[{'ym:s:firstTrafficSource': 'Search engine traffic',\n",
      "  'ym:s:hour': '16:00',\n",
      "  'ym:s:robotPercentage': 25.40322581,\n",
      "  'ym:s:users': 241.0,\n",
      "  'ym:s:visits': 248.0},\n",
      " {'ym:s:firstTrafficSource': 'Search engine traffic',\n",
      "  'ym:s:hour': '15:00',\n",
      "  'ym:s:robotPercentage': 26.58227848,\n",
      "  'ym:s:users': 231.0,\n",
      "  'ym:s:visits': 237.0},\n",
      " {'ym:s:firstTrafficSource': 'Search engine traffic',\n",
      "  'ym:s:hour': '12:00',\n",
      "  'ym:s:robotPercentage': 25.44642857,\n",
      "  'ym:s:users': 209.0,\n",
      "  'ym:s:visits': 224.0},\n",
      " {'ym:s:firstTrafficSource': 'Search engine traffic',\n",
      "  'ym:s:hour': '13:00',\n",
      "  'ym:s:robotPercentage': 27.80269058,\n",
      "  'ym:s:users': 208.0,\n",
      "  'ym:s:visits': 223.0},\n",
      " {'ym:s:firstTrafficSource': 'Search engine traffic',\n",
      "  'ym:s:hour': '14:00',\n",
      "  'ym:s:robotPercentage': 25.11210762,\n",
      "  'ym:s:users': 216.0,\n",
      "  'ym:s:visits': 223.0}]\n"
     ]
    }
   ],
   "source": [
    "#Преобразуем наши данные с помощью этой функции и запишем в переменную metrika_list_of_dicts:\n",
    "metrika_list_of_dicts = getMetrikaDataInListOfDicts(metrika_data)\n",
    "pprint(metrika_list_of_dicts[0:5])"
   ]
  },
  {
   "attachments": {},
   "cell_type": "markdown",
   "metadata": {},
   "source": [
    "<font size=\"5\" color=\"yellow\">Итак, мы получили metrika_list_of_dicts. Значение этой переменной представляет собой обычный список словарей без вложенных объектов. Такая структура данных годится для того, чтобы из неё сделать датафрейм. <b></font>"
   ]
  },
  {
   "cell_type": "code",
   "execution_count": 38,
   "metadata": {},
   "outputs": [
    {
     "data": {
      "text/html": [
       "<div>\n",
       "<style scoped>\n",
       "    .dataframe tbody tr th:only-of-type {\n",
       "        vertical-align: middle;\n",
       "    }\n",
       "\n",
       "    .dataframe tbody tr th {\n",
       "        vertical-align: top;\n",
       "    }\n",
       "\n",
       "    .dataframe thead th {\n",
       "        text-align: right;\n",
       "    }\n",
       "</style>\n",
       "<table border=\"1\" class=\"dataframe\">\n",
       "  <thead>\n",
       "    <tr style=\"text-align: right;\">\n",
       "      <th></th>\n",
       "      <th>ym:s:firstTrafficSource</th>\n",
       "      <th>ym:s:hour</th>\n",
       "      <th>ym:s:visits</th>\n",
       "      <th>ym:s:users</th>\n",
       "      <th>ym:s:robotPercentage</th>\n",
       "    </tr>\n",
       "  </thead>\n",
       "  <tbody>\n",
       "    <tr>\n",
       "      <th>0</th>\n",
       "      <td>Search engine traffic</td>\n",
       "      <td>16:00</td>\n",
       "      <td>248.0</td>\n",
       "      <td>241.0</td>\n",
       "      <td>25.403226</td>\n",
       "    </tr>\n",
       "    <tr>\n",
       "      <th>1</th>\n",
       "      <td>Search engine traffic</td>\n",
       "      <td>15:00</td>\n",
       "      <td>237.0</td>\n",
       "      <td>231.0</td>\n",
       "      <td>26.582278</td>\n",
       "    </tr>\n",
       "    <tr>\n",
       "      <th>2</th>\n",
       "      <td>Search engine traffic</td>\n",
       "      <td>12:00</td>\n",
       "      <td>224.0</td>\n",
       "      <td>209.0</td>\n",
       "      <td>25.446429</td>\n",
       "    </tr>\n",
       "    <tr>\n",
       "      <th>3</th>\n",
       "      <td>Search engine traffic</td>\n",
       "      <td>13:00</td>\n",
       "      <td>223.0</td>\n",
       "      <td>208.0</td>\n",
       "      <td>27.802691</td>\n",
       "    </tr>\n",
       "    <tr>\n",
       "      <th>4</th>\n",
       "      <td>Search engine traffic</td>\n",
       "      <td>14:00</td>\n",
       "      <td>223.0</td>\n",
       "      <td>216.0</td>\n",
       "      <td>25.112108</td>\n",
       "    </tr>\n",
       "    <tr>\n",
       "      <th>5</th>\n",
       "      <td>Search engine traffic</td>\n",
       "      <td>11:00</td>\n",
       "      <td>221.0</td>\n",
       "      <td>215.0</td>\n",
       "      <td>24.886878</td>\n",
       "    </tr>\n",
       "    <tr>\n",
       "      <th>6</th>\n",
       "      <td>Search engine traffic</td>\n",
       "      <td>17:00</td>\n",
       "      <td>200.0</td>\n",
       "      <td>190.0</td>\n",
       "      <td>26.500000</td>\n",
       "    </tr>\n",
       "    <tr>\n",
       "      <th>7</th>\n",
       "      <td>Search engine traffic</td>\n",
       "      <td>10:00</td>\n",
       "      <td>179.0</td>\n",
       "      <td>170.0</td>\n",
       "      <td>20.670391</td>\n",
       "    </tr>\n",
       "    <tr>\n",
       "      <th>8</th>\n",
       "      <td>Search engine traffic</td>\n",
       "      <td>21:00</td>\n",
       "      <td>161.0</td>\n",
       "      <td>152.0</td>\n",
       "      <td>16.770186</td>\n",
       "    </tr>\n",
       "    <tr>\n",
       "      <th>9</th>\n",
       "      <td>Search engine traffic</td>\n",
       "      <td>19:00</td>\n",
       "      <td>154.0</td>\n",
       "      <td>149.0</td>\n",
       "      <td>24.025974</td>\n",
       "    </tr>\n",
       "  </tbody>\n",
       "</table>\n",
       "</div>"
      ],
      "text/plain": [
       "  ym:s:firstTrafficSource ym:s:hour  ym:s:visits  ym:s:users   \n",
       "0   Search engine traffic     16:00        248.0       241.0  \\\n",
       "1   Search engine traffic     15:00        237.0       231.0   \n",
       "2   Search engine traffic     12:00        224.0       209.0   \n",
       "3   Search engine traffic     13:00        223.0       208.0   \n",
       "4   Search engine traffic     14:00        223.0       216.0   \n",
       "5   Search engine traffic     11:00        221.0       215.0   \n",
       "6   Search engine traffic     17:00        200.0       190.0   \n",
       "7   Search engine traffic     10:00        179.0       170.0   \n",
       "8   Search engine traffic     21:00        161.0       152.0   \n",
       "9   Search engine traffic     19:00        154.0       149.0   \n",
       "\n",
       "   ym:s:robotPercentage  \n",
       "0             25.403226  \n",
       "1             26.582278  \n",
       "2             25.446429  \n",
       "3             27.802691  \n",
       "4             25.112108  \n",
       "5             24.886878  \n",
       "6             26.500000  \n",
       "7             20.670391  \n",
       "8             16.770186  \n",
       "9             24.025974  "
      ]
     },
     "metadata": {},
     "output_type": "display_data"
    }
   ],
   "source": [
    "#Создаем датафрейм. Для этого передадим metrika_list_of_dicts в функцию pd.DataFrame(), чтобы создать датафрейм metrika_df:\n",
    "metrika_df = pd.DataFrame(metrika_list_of_dicts)\n",
    "display(metrika_df.head(10))"
   ]
  },
  {
   "cell_type": "code",
   "execution_count": 39,
   "metadata": {},
   "outputs": [
    {
     "data": {
      "text/html": [
       "<div>\n",
       "<style scoped>\n",
       "    .dataframe tbody tr th:only-of-type {\n",
       "        vertical-align: middle;\n",
       "    }\n",
       "\n",
       "    .dataframe tbody tr th {\n",
       "        vertical-align: top;\n",
       "    }\n",
       "\n",
       "    .dataframe thead th {\n",
       "        text-align: right;\n",
       "    }\n",
       "</style>\n",
       "<table border=\"1\" class=\"dataframe\">\n",
       "  <thead>\n",
       "    <tr style=\"text-align: right;\">\n",
       "      <th></th>\n",
       "      <th>TRAFFIC SOURCE</th>\n",
       "      <th>TIME</th>\n",
       "      <th>VISITS</th>\n",
       "      <th>USERS</th>\n",
       "      <th>ROBOT PERCENTAGE</th>\n",
       "    </tr>\n",
       "  </thead>\n",
       "  <tbody>\n",
       "    <tr>\n",
       "      <th>0</th>\n",
       "      <td>Search engine traffic</td>\n",
       "      <td>16:00</td>\n",
       "      <td>248.0</td>\n",
       "      <td>241.0</td>\n",
       "      <td>25.403226</td>\n",
       "    </tr>\n",
       "    <tr>\n",
       "      <th>1</th>\n",
       "      <td>Search engine traffic</td>\n",
       "      <td>15:00</td>\n",
       "      <td>237.0</td>\n",
       "      <td>231.0</td>\n",
       "      <td>26.582278</td>\n",
       "    </tr>\n",
       "    <tr>\n",
       "      <th>2</th>\n",
       "      <td>Search engine traffic</td>\n",
       "      <td>12:00</td>\n",
       "      <td>224.0</td>\n",
       "      <td>209.0</td>\n",
       "      <td>25.446429</td>\n",
       "    </tr>\n",
       "    <tr>\n",
       "      <th>3</th>\n",
       "      <td>Search engine traffic</td>\n",
       "      <td>13:00</td>\n",
       "      <td>223.0</td>\n",
       "      <td>208.0</td>\n",
       "      <td>27.802691</td>\n",
       "    </tr>\n",
       "    <tr>\n",
       "      <th>4</th>\n",
       "      <td>Search engine traffic</td>\n",
       "      <td>14:00</td>\n",
       "      <td>223.0</td>\n",
       "      <td>216.0</td>\n",
       "      <td>25.112108</td>\n",
       "    </tr>\n",
       "    <tr>\n",
       "      <th>...</th>\n",
       "      <td>...</td>\n",
       "      <td>...</td>\n",
       "      <td>...</td>\n",
       "      <td>...</td>\n",
       "      <td>...</td>\n",
       "    </tr>\n",
       "    <tr>\n",
       "      <th>94</th>\n",
       "      <td>Social network traffic</td>\n",
       "      <td>07:00</td>\n",
       "      <td>1.0</td>\n",
       "      <td>1.0</td>\n",
       "      <td>0.000000</td>\n",
       "    </tr>\n",
       "    <tr>\n",
       "      <th>95</th>\n",
       "      <td>Social network traffic</td>\n",
       "      <td>11:00</td>\n",
       "      <td>1.0</td>\n",
       "      <td>1.0</td>\n",
       "      <td>0.000000</td>\n",
       "    </tr>\n",
       "    <tr>\n",
       "      <th>96</th>\n",
       "      <td>Social network traffic</td>\n",
       "      <td>16:00</td>\n",
       "      <td>1.0</td>\n",
       "      <td>1.0</td>\n",
       "      <td>0.000000</td>\n",
       "    </tr>\n",
       "    <tr>\n",
       "      <th>97</th>\n",
       "      <td>Recommendation system traffic</td>\n",
       "      <td>08:00</td>\n",
       "      <td>1.0</td>\n",
       "      <td>1.0</td>\n",
       "      <td>0.000000</td>\n",
       "    </tr>\n",
       "    <tr>\n",
       "      <th>98</th>\n",
       "      <td>Recommendation system traffic</td>\n",
       "      <td>14:00</td>\n",
       "      <td>1.0</td>\n",
       "      <td>1.0</td>\n",
       "      <td>0.000000</td>\n",
       "    </tr>\n",
       "  </tbody>\n",
       "</table>\n",
       "<p>99 rows × 5 columns</p>\n",
       "</div>"
      ],
      "text/plain": [
       "                   TRAFFIC SOURCE   TIME  VISITS  USERS  ROBOT PERCENTAGE\n",
       "0           Search engine traffic  16:00   248.0  241.0         25.403226\n",
       "1           Search engine traffic  15:00   237.0  231.0         26.582278\n",
       "2           Search engine traffic  12:00   224.0  209.0         25.446429\n",
       "3           Search engine traffic  13:00   223.0  208.0         27.802691\n",
       "4           Search engine traffic  14:00   223.0  216.0         25.112108\n",
       "..                            ...    ...     ...    ...               ...\n",
       "94         Social network traffic  07:00     1.0    1.0          0.000000\n",
       "95         Social network traffic  11:00     1.0    1.0          0.000000\n",
       "96         Social network traffic  16:00     1.0    1.0          0.000000\n",
       "97  Recommendation system traffic  08:00     1.0    1.0          0.000000\n",
       "98  Recommendation system traffic  14:00     1.0    1.0          0.000000\n",
       "\n",
       "[99 rows x 5 columns]"
      ]
     },
     "metadata": {},
     "output_type": "display_data"
    }
   ],
   "source": [
    "#Для удобства переименуем столбцы.\n",
    "metrika_df.columns = ['TRAFFIC SOURCE','TIME','VISITS','USERS','ROBOT PERCENTAGE']\n",
    "display(metrika_df)"
   ]
  },
  {
   "attachments": {},
   "cell_type": "markdown",
   "metadata": {},
   "source": [
    "<font size=\"5\" color=\"yellow\">Создадим два дополнительных столбца с людьми и роботами, для удобства <b></font>"
   ]
  },
  {
   "cell_type": "code",
   "execution_count": 40,
   "metadata": {},
   "outputs": [
    {
     "data": {
      "text/html": [
       "<div>\n",
       "<style scoped>\n",
       "    .dataframe tbody tr th:only-of-type {\n",
       "        vertical-align: middle;\n",
       "    }\n",
       "\n",
       "    .dataframe tbody tr th {\n",
       "        vertical-align: top;\n",
       "    }\n",
       "\n",
       "    .dataframe thead th {\n",
       "        text-align: right;\n",
       "    }\n",
       "</style>\n",
       "<table border=\"1\" class=\"dataframe\">\n",
       "  <thead>\n",
       "    <tr style=\"text-align: right;\">\n",
       "      <th></th>\n",
       "      <th>TRAFFIC SOURCE</th>\n",
       "      <th>TIME</th>\n",
       "      <th>VISITS</th>\n",
       "      <th>USERS</th>\n",
       "      <th>ROBOT PERCENTAGE</th>\n",
       "      <th>ROBOTS</th>\n",
       "      <th>PEOPLE</th>\n",
       "    </tr>\n",
       "  </thead>\n",
       "  <tbody>\n",
       "    <tr>\n",
       "      <th>0</th>\n",
       "      <td>Search engine traffic</td>\n",
       "      <td>16:00</td>\n",
       "      <td>248.0</td>\n",
       "      <td>241.0</td>\n",
       "      <td>25.403226</td>\n",
       "      <td>63.0</td>\n",
       "      <td>185.0</td>\n",
       "    </tr>\n",
       "    <tr>\n",
       "      <th>1</th>\n",
       "      <td>Search engine traffic</td>\n",
       "      <td>15:00</td>\n",
       "      <td>237.0</td>\n",
       "      <td>231.0</td>\n",
       "      <td>26.582278</td>\n",
       "      <td>63.0</td>\n",
       "      <td>174.0</td>\n",
       "    </tr>\n",
       "    <tr>\n",
       "      <th>2</th>\n",
       "      <td>Search engine traffic</td>\n",
       "      <td>12:00</td>\n",
       "      <td>224.0</td>\n",
       "      <td>209.0</td>\n",
       "      <td>25.446429</td>\n",
       "      <td>57.0</td>\n",
       "      <td>167.0</td>\n",
       "    </tr>\n",
       "    <tr>\n",
       "      <th>3</th>\n",
       "      <td>Search engine traffic</td>\n",
       "      <td>13:00</td>\n",
       "      <td>223.0</td>\n",
       "      <td>208.0</td>\n",
       "      <td>27.802691</td>\n",
       "      <td>62.0</td>\n",
       "      <td>161.0</td>\n",
       "    </tr>\n",
       "    <tr>\n",
       "      <th>4</th>\n",
       "      <td>Search engine traffic</td>\n",
       "      <td>14:00</td>\n",
       "      <td>223.0</td>\n",
       "      <td>216.0</td>\n",
       "      <td>25.112108</td>\n",
       "      <td>56.0</td>\n",
       "      <td>167.0</td>\n",
       "    </tr>\n",
       "    <tr>\n",
       "      <th>...</th>\n",
       "      <td>...</td>\n",
       "      <td>...</td>\n",
       "      <td>...</td>\n",
       "      <td>...</td>\n",
       "      <td>...</td>\n",
       "      <td>...</td>\n",
       "      <td>...</td>\n",
       "    </tr>\n",
       "    <tr>\n",
       "      <th>94</th>\n",
       "      <td>Social network traffic</td>\n",
       "      <td>07:00</td>\n",
       "      <td>1.0</td>\n",
       "      <td>1.0</td>\n",
       "      <td>0.000000</td>\n",
       "      <td>0.0</td>\n",
       "      <td>1.0</td>\n",
       "    </tr>\n",
       "    <tr>\n",
       "      <th>95</th>\n",
       "      <td>Social network traffic</td>\n",
       "      <td>11:00</td>\n",
       "      <td>1.0</td>\n",
       "      <td>1.0</td>\n",
       "      <td>0.000000</td>\n",
       "      <td>0.0</td>\n",
       "      <td>1.0</td>\n",
       "    </tr>\n",
       "    <tr>\n",
       "      <th>96</th>\n",
       "      <td>Social network traffic</td>\n",
       "      <td>16:00</td>\n",
       "      <td>1.0</td>\n",
       "      <td>1.0</td>\n",
       "      <td>0.000000</td>\n",
       "      <td>0.0</td>\n",
       "      <td>1.0</td>\n",
       "    </tr>\n",
       "    <tr>\n",
       "      <th>97</th>\n",
       "      <td>Recommendation system traffic</td>\n",
       "      <td>08:00</td>\n",
       "      <td>1.0</td>\n",
       "      <td>1.0</td>\n",
       "      <td>0.000000</td>\n",
       "      <td>0.0</td>\n",
       "      <td>1.0</td>\n",
       "    </tr>\n",
       "    <tr>\n",
       "      <th>98</th>\n",
       "      <td>Recommendation system traffic</td>\n",
       "      <td>14:00</td>\n",
       "      <td>1.0</td>\n",
       "      <td>1.0</td>\n",
       "      <td>0.000000</td>\n",
       "      <td>0.0</td>\n",
       "      <td>1.0</td>\n",
       "    </tr>\n",
       "  </tbody>\n",
       "</table>\n",
       "<p>99 rows × 7 columns</p>\n",
       "</div>"
      ],
      "text/plain": [
       "                   TRAFFIC SOURCE   TIME  VISITS  USERS  ROBOT PERCENTAGE   \n",
       "0           Search engine traffic  16:00   248.0  241.0         25.403226  \\\n",
       "1           Search engine traffic  15:00   237.0  231.0         26.582278   \n",
       "2           Search engine traffic  12:00   224.0  209.0         25.446429   \n",
       "3           Search engine traffic  13:00   223.0  208.0         27.802691   \n",
       "4           Search engine traffic  14:00   223.0  216.0         25.112108   \n",
       "..                            ...    ...     ...    ...               ...   \n",
       "94         Social network traffic  07:00     1.0    1.0          0.000000   \n",
       "95         Social network traffic  11:00     1.0    1.0          0.000000   \n",
       "96         Social network traffic  16:00     1.0    1.0          0.000000   \n",
       "97  Recommendation system traffic  08:00     1.0    1.0          0.000000   \n",
       "98  Recommendation system traffic  14:00     1.0    1.0          0.000000   \n",
       "\n",
       "    ROBOTS  PEOPLE  \n",
       "0     63.0   185.0  \n",
       "1     63.0   174.0  \n",
       "2     57.0   167.0  \n",
       "3     62.0   161.0  \n",
       "4     56.0   167.0  \n",
       "..     ...     ...  \n",
       "94     0.0     1.0  \n",
       "95     0.0     1.0  \n",
       "96     0.0     1.0  \n",
       "97     0.0     1.0  \n",
       "98     0.0     1.0  \n",
       "\n",
       "[99 rows x 7 columns]"
      ]
     },
     "execution_count": 40,
     "metadata": {},
     "output_type": "execute_result"
    }
   ],
   "source": [
    "#Создадим столбец с роботами и сразу произведем подчет их количества визитов за каждый определенный отрезок времени\n",
    "metrika_df['ROBOTS'] = metrika_df['VISITS'] * metrika_df['ROBOT PERCENTAGE'] / 100\n",
    "#Также создадим столбец с пользователями, найдем их количества за определенные промежутки времени \n",
    "metrika_df['PEOPLE'] = metrika_df['VISITS'] - metrika_df['ROBOTS']\n",
    "#Выведем таблицу\n",
    "metrika_df"
   ]
  },
  {
   "attachments": {},
   "cell_type": "markdown",
   "metadata": {},
   "source": [
    "## *1.Оценим количество ботов, которые заходят на наш сайт, и их долю от всего трафика.*"
   ]
  },
  {
   "cell_type": "code",
   "execution_count": 41,
   "metadata": {},
   "outputs": [
    {
     "name": "stdout",
     "output_type": "stream",
     "text": [
      "Общее количество визитов всех пользователей: 4315\n",
      "Общее количество визитов людей: 3353\n",
      "Общее количество визитов роботов: 962\n",
      "Доля роботов в % от всех пользователей: 22.29\n"
     ]
    }
   ],
   "source": [
    "#Произведем расчет метрик и выведим общую картину\n",
    "print('Общее количество визитов всех пользователей:', round(metrika_df['VISITS'].sum()))\n",
    "print('Общее количество визитов людей:', round(metrika_df['PEOPLE'].sum()))\n",
    "print('Общее количество визитов роботов:', round(metrika_df['ROBOTS'].sum()))\n",
    "print('Доля роботов в % от всех пользователей:', round(metrika_df['ROBOTS'].sum() / metrika_df['VISITS'].sum()*100,2))"
   ]
  },
  {
   "cell_type": "code",
   "execution_count": 42,
   "metadata": {},
   "outputs": [
    {
     "data": {
      "text/html": [
       "<div>\n",
       "<style scoped>\n",
       "    .dataframe tbody tr th:only-of-type {\n",
       "        vertical-align: middle;\n",
       "    }\n",
       "\n",
       "    .dataframe tbody tr th {\n",
       "        vertical-align: top;\n",
       "    }\n",
       "\n",
       "    .dataframe thead th {\n",
       "        text-align: right;\n",
       "    }\n",
       "</style>\n",
       "<table border=\"1\" class=\"dataframe\">\n",
       "  <thead>\n",
       "    <tr style=\"text-align: right;\">\n",
       "      <th></th>\n",
       "      <th>TRAFFIC SOURCE</th>\n",
       "      <th>PEOPLE</th>\n",
       "      <th>ROBOTS</th>\n",
       "    </tr>\n",
       "  </thead>\n",
       "  <tbody>\n",
       "    <tr>\n",
       "      <th>0</th>\n",
       "      <td>Cached page traffic</td>\n",
       "      <td>3</td>\n",
       "      <td>1</td>\n",
       "    </tr>\n",
       "    <tr>\n",
       "      <th>1</th>\n",
       "      <td>Direct traffic</td>\n",
       "      <td>668</td>\n",
       "      <td>195</td>\n",
       "    </tr>\n",
       "    <tr>\n",
       "      <th>2</th>\n",
       "      <td>Internal traffic</td>\n",
       "      <td>3</td>\n",
       "      <td>0</td>\n",
       "    </tr>\n",
       "    <tr>\n",
       "      <th>3</th>\n",
       "      <td>Link traffic</td>\n",
       "      <td>95</td>\n",
       "      <td>30</td>\n",
       "    </tr>\n",
       "    <tr>\n",
       "      <th>4</th>\n",
       "      <td>Recommendation system traffic</td>\n",
       "      <td>2</td>\n",
       "      <td>0</td>\n",
       "    </tr>\n",
       "    <tr>\n",
       "      <th>5</th>\n",
       "      <td>Search engine traffic</td>\n",
       "      <td>2523</td>\n",
       "      <td>725</td>\n",
       "    </tr>\n",
       "    <tr>\n",
       "      <th>6</th>\n",
       "      <td>Social network traffic</td>\n",
       "      <td>59</td>\n",
       "      <td>11</td>\n",
       "    </tr>\n",
       "  </tbody>\n",
       "</table>\n",
       "</div>"
      ],
      "text/plain": [
       "                  TRAFFIC SOURCE  PEOPLE  ROBOTS\n",
       "0            Cached page traffic       3       1\n",
       "1                 Direct traffic     668     195\n",
       "2               Internal traffic       3       0\n",
       "3                   Link traffic      95      30\n",
       "4  Recommendation system traffic       2       0\n",
       "5          Search engine traffic    2523     725\n",
       "6         Social network traffic      59      11"
      ]
     },
     "execution_count": 42,
     "metadata": {},
     "output_type": "execute_result"
    }
   ],
   "source": [
    "#Создаем сводную таблицу посещений среди людей и роботов\n",
    "pivot_df = metrika_df.pivot_table(\n",
    "    index='TRAFFIC SOURCE',\n",
    "    values=['ROBOTS', 'PEOPLE'],\n",
    "    aggfunc='sum',\n",
    "    fill_value=0\n",
    "    )\n",
    "pivot_df.reset_index()"
   ]
  },
  {
   "attachments": {},
   "cell_type": "markdown",
   "metadata": {},
   "source": [
    "<font size=\"5\" color=\"yellow\">Визуализируем данные <b></font>"
   ]
  },
  {
   "cell_type": "code",
   "execution_count": 43,
   "metadata": {},
   "outputs": [
    {
     "data": {
      "image/png": "[encoded data removed]",
      "text/plain": [
       "<Figure size 1500x400 with 1 Axes>"
      ]
     },
     "metadata": {},
     "output_type": "display_data"
    }
   ],
   "source": [
    "plt.rcParams['font.size'] = '15'#размер шрифта\n",
    "pivot_df.plot(\n",
    "    kind='bar',\n",
    "    grid=False,#сетка\n",
    "    rot=45,\n",
    "    title='Соотношение роботов и людей по семи источникам трафика',\n",
    "    ylabel='Количество визитов',\n",
    "    xlabel='Источник трафика',\n",
    "    width=1,#ширина столбцов \n",
    "    fontsize=10,\n",
    "    figsize=(15, 4)\n",
    ");"
   ]
  },
  {
   "cell_type": "code",
   "execution_count": 44,
   "metadata": {},
   "outputs": [
    {
     "data": {
      "application/vnd.plotly.v1+json": {
       "config": {
        "plotlyServerURL": "https://plot.ly"
       },
       "data": [
        {
         "labels": [
          "Search engine traffic",
          "Direct traffic",
          "Link traffic",
          "Social network traffic"
         ],
         "textinfo": "percent",
         "type": "pie",
         "values": [
          725,
          195,
          30,
          11
         ]
        }
       ],
       "layout": {
        "template": {
         "data": {
          "bar": [
           {
            "error_x": {
             "color": "#2a3f5f"
            },
            "error_y": {
             "color": "#2a3f5f"
            },
            "marker": {
             "line": {
              "color": "#E5ECF6",
              "width": 0.5
             },
             "pattern": {
              "fillmode": "overlay",
              "size": 10,
              "solidity": 0.2
             }
            },
            "type": "bar"
           }
          ],
          "barpolar": [
           {
            "marker": {
             "line": {
              "color": "#E5ECF6",
              "width": 0.5
             },
             "pattern": {
              "fillmode": "overlay",
              "size": 10,
              "solidity": 0.2
             }
            },
            "type": "barpolar"
           }
          ],
          "carpet": [
           {
            "aaxis": {
             "endlinecolor": "#2a3f5f",
             "gridcolor": "white",
             "linecolor": "white",
             "minorgridcolor": "white",
             "startlinecolor": "#2a3f5f"
            },
            "baxis": {
             "endlinecolor": "#2a3f5f",
             "gridcolor": "white",
             "linecolor": "white",
             "minorgridcolor": "white",
             "startlinecolor": "#2a3f5f"
            },
            "type": "carpet"
           }
          ],
          "choropleth": [
           {
            "colorbar": {
             "outlinewidth": 0,
             "ticks": ""
            },
            "type": "choropleth"
           }
          ],
          "contour": [
           {
            "colorbar": {
             "outlinewidth": 0,
             "ticks": ""
            },
            "colorscale": [
             [
              0,
              "#0d0887"
             ],
             [
              0.1111111111111111,
              "#46039f"
             ],
             [
              0.2222222222222222,
              "#7201a8"
             ],
             [
              0.3333333333333333,
              "#9c179e"
             ],
             [
              0.4444444444444444,
              "#bd3786"
             ],
             [
              0.5555555555555556,
              "#d8576b"
             ],
             [
              0.6666666666666666,
              "#ed7953"
             ],
             [
              0.7777777777777778,
              "#fb9f3a"
             ],
             [
              0.8888888888888888,
              "#fdca26"
             ],
             [
              1,
              "#f0f921"
             ]
            ],
            "type": "contour"
           }
          ],
          "contourcarpet": [
           {
            "colorbar": {
             "outlinewidth": 0,
             "ticks": ""
            },
            "type": "contourcarpet"
           }
          ],
          "heatmap": [
           {
            "colorbar": {
             "outlinewidth": 0,
             "ticks": ""
            },
            "colorscale": [
             [
              0,
              "#0d0887"
             ],
             [
              0.1111111111111111,
              "#46039f"
             ],
             [
              0.2222222222222222,
              "#7201a8"
             ],
             [
              0.3333333333333333,
              "#9c179e"
             ],
             [
              0.4444444444444444,
              "#bd3786"
             ],
             [
              0.5555555555555556,
              "#d8576b"
             ],
             [
              0.6666666666666666,
              "#ed7953"
             ],
             [
              0.7777777777777778,
              "#fb9f3a"
             ],
             [
              0.8888888888888888,
              "#fdca26"
             ],
             [
              1,
              "#f0f921"
             ]
            ],
            "type": "heatmap"
           }
          ],
          "heatmapgl": [
           {
            "colorbar": {
             "outlinewidth": 0,
             "ticks": ""
            },
            "colorscale": [
             [
              0,
              "#0d0887"
             ],
             [
              0.1111111111111111,
              "#46039f"
             ],
             [
              0.2222222222222222,
              "#7201a8"
             ],
             [
              0.3333333333333333,
              "#9c179e"
             ],
             [
              0.4444444444444444,
              "#bd3786"
             ],
             [
              0.5555555555555556,
              "#d8576b"
             ],
             [
              0.6666666666666666,
              "#ed7953"
             ],
             [
              0.7777777777777778,
              "#fb9f3a"
             ],
             [
              0.8888888888888888,
              "#fdca26"
             ],
             [
              1,
              "#f0f921"
             ]
            ],
            "type": "heatmapgl"
           }
          ],
          "histogram": [
           {
            "marker": {
             "pattern": {
              "fillmode": "overlay",
              "size": 10,
              "solidity": 0.2
             }
            },
            "type": "histogram"
           }
          ],
          "histogram2d": [
           {
            "colorbar": {
             "outlinewidth": 0,
             "ticks": ""
            },
            "colorscale": [
             [
              0,
              "#0d0887"
             ],
             [
              0.1111111111111111,
              "#46039f"
             ],
             [
              0.2222222222222222,
              "#7201a8"
             ],
             [
              0.3333333333333333,
              "#9c179e"
             ],
             [
              0.4444444444444444,
              "#bd3786"
             ],
             [
              0.5555555555555556,
              "#d8576b"
             ],
             [
              0.6666666666666666,
              "#ed7953"
             ],
             [
              0.7777777777777778,
              "#fb9f3a"
             ],
             [
              0.8888888888888888,
              "#fdca26"
             ],
             [
              1,
              "#f0f921"
             ]
            ],
            "type": "histogram2d"
           }
          ],
          "histogram2dcontour": [
           {
            "colorbar": {
             "outlinewidth": 0,
             "ticks": ""
            },
            "colorscale": [
             [
              0,
              "#0d0887"
             ],
             [
              0.1111111111111111,
              "#46039f"
             ],
             [
              0.2222222222222222,
              "#7201a8"
             ],
             [
              0.3333333333333333,
              "#9c179e"
             ],
             [
              0.4444444444444444,
              "#bd3786"
             ],
             [
              0.5555555555555556,
              "#d8576b"
             ],
             [
              0.6666666666666666,
              "#ed7953"
             ],
             [
              0.7777777777777778,
              "#fb9f3a"
             ],
             [
              0.8888888888888888,
              "#fdca26"
             ],
             [
              1,
              "#f0f921"
             ]
            ],
            "type": "histogram2dcontour"
           }
          ],
          "mesh3d": [
           {
            "colorbar": {
             "outlinewidth": 0,
             "ticks": ""
            },
            "type": "mesh3d"
           }
          ],
          "parcoords": [
           {
            "line": {
             "colorbar": {
              "outlinewidth": 0,
              "ticks": ""
             }
            },
            "type": "parcoords"
           }
          ],
          "pie": [
           {
            "automargin": true,
            "type": "pie"
           }
          ],
          "scatter": [
           {
            "fillpattern": {
             "fillmode": "overlay",
             "size": 10,
             "solidity": 0.2
            },
            "type": "scatter"
           }
          ],
          "scatter3d": [
           {
            "line": {
             "colorbar": {
              "outlinewidth": 0,
              "ticks": ""
             }
            },
            "marker": {
             "colorbar": {
              "outlinewidth": 0,
              "ticks": ""
             }
            },
            "type": "scatter3d"
           }
          ],
          "scattercarpet": [
           {
            "marker": {
             "colorbar": {
              "outlinewidth": 0,
              "ticks": ""
             }
            },
            "type": "scattercarpet"
           }
          ],
          "scattergeo": [
           {
            "marker": {
             "colorbar": {
              "outlinewidth": 0,
              "ticks": ""
             }
            },
            "type": "scattergeo"
           }
          ],
          "scattergl": [
           {
            "marker": {
             "colorbar": {
              "outlinewidth": 0,
              "ticks": ""
             }
            },
            "type": "scattergl"
           }
          ],
          "scattermapbox": [
           {
            "marker": {
             "colorbar": {
              "outlinewidth": 0,
              "ticks": ""
             }
            },
            "type": "scattermapbox"
           }
          ],
          "scatterpolar": [
           {
            "marker": {
             "colorbar": {
              "outlinewidth": 0,
              "ticks": ""
             }
            },
            "type": "scatterpolar"
           }
          ],
          "scatterpolargl": [
           {
            "marker": {
             "colorbar": {
              "outlinewidth": 0,
              "ticks": ""
             }
            },
            "type": "scatterpolargl"
           }
          ],
          "scatterternary": [
           {
            "marker": {
             "colorbar": {
              "outlinewidth": 0,
              "ticks": ""
             }
            },
            "type": "scatterternary"
           }
          ],
          "surface": [
           {
            "colorbar": {
             "outlinewidth": 0,
             "ticks": ""
            },
            "colorscale": [
             [
              0,
              "#0d0887"
             ],
             [
              0.1111111111111111,
              "#46039f"
             ],
             [
              0.2222222222222222,
              "#7201a8"
             ],
             [
              0.3333333333333333,
              "#9c179e"
             ],
             [
              0.4444444444444444,
              "#bd3786"
             ],
             [
              0.5555555555555556,
              "#d8576b"
             ],
             [
              0.6666666666666666,
              "#ed7953"
             ],
             [
              0.7777777777777778,
              "#fb9f3a"
             ],
             [
              0.8888888888888888,
              "#fdca26"
             ],
             [
              1,
              "#f0f921"
             ]
            ],
            "type": "surface"
           }
          ],
          "table": [
           {
            "cells": {
             "fill": {
              "color": "#EBF0F8"
             },
             "line": {
              "color": "white"
             }
            },
            "header": {
             "fill": {
              "color": "#C8D4E3"
             },
             "line": {
              "color": "white"
             }
            },
            "type": "table"
           }
          ]
         },
         "layout": {
          "annotationdefaults": {
           "arrowcolor": "#2a3f5f",
           "arrowhead": 0,
           "arrowwidth": 1
          },
          "autotypenumbers": "strict",
          "coloraxis": {
           "colorbar": {
            "outlinewidth": 0,
            "ticks": ""
           }
          },
          "colorscale": {
           "diverging": [
            [
             0,
             "#8e0152"
            ],
            [
             0.1,
             "#c51b7d"
            ],
            [
             0.2,
             "#de77ae"
            ],
            [
             0.3,
             "#f1b6da"
            ],
            [
             0.4,
             "#fde0ef"
            ],
            [
             0.5,
             "#f7f7f7"
            ],
            [
             0.6,
             "#e6f5d0"
            ],
            [
             0.7,
             "#b8e186"
            ],
            [
             0.8,
             "#7fbc41"
            ],
            [
             0.9,
             "#4d9221"
            ],
            [
             1,
             "#276419"
            ]
           ],
           "sequential": [
            [
             0,
             "#0d0887"
            ],
            [
             0.1111111111111111,
             "#46039f"
            ],
            [
             0.2222222222222222,
             "#7201a8"
            ],
            [
             0.3333333333333333,
             "#9c179e"
            ],
            [
             0.4444444444444444,
             "#bd3786"
            ],
            [
             0.5555555555555556,
             "#d8576b"
            ],
            [
             0.6666666666666666,
             "#ed7953"
            ],
            [
             0.7777777777777778,
             "#fb9f3a"
            ],
            [
             0.8888888888888888,
             "#fdca26"
            ],
            [
             1,
             "#f0f921"
            ]
           ],
           "sequentialminus": [
            [
             0,
             "#0d0887"
            ],
            [
             0.1111111111111111,
             "#46039f"
            ],
            [
             0.2222222222222222,
             "#7201a8"
            ],
            [
             0.3333333333333333,
             "#9c179e"
            ],
            [
             0.4444444444444444,
             "#bd3786"
            ],
            [
             0.5555555555555556,
             "#d8576b"
            ],
            [
             0.6666666666666666,
             "#ed7953"
            ],
            [
             0.7777777777777778,
             "#fb9f3a"
            ],
            [
             0.8888888888888888,
             "#fdca26"
            ],
            [
             1,
             "#f0f921"
            ]
           ]
          },
          "colorway": [
           "#636efa",
           "#EF553B",
           "#00cc96",
           "#ab63fa",
           "#FFA15A",
           "#19d3f3",
           "#FF6692",
           "#B6E880",
           "#FF97FF",
           "#FECB52"
          ],
          "font": {
           "color": "#2a3f5f"
          },
          "geo": {
           "bgcolor": "white",
           "lakecolor": "white",
           "landcolor": "#E5ECF6",
           "showlakes": true,
           "showland": true,
           "subunitcolor": "white"
          },
          "hoverlabel": {
           "align": "left"
          },
          "hovermode": "closest",
          "mapbox": {
           "style": "light"
          },
          "paper_bgcolor": "white",
          "plot_bgcolor": "#E5ECF6",
          "polar": {
           "angularaxis": {
            "gridcolor": "white",
            "linecolor": "white",
            "ticks": ""
           },
           "bgcolor": "#E5ECF6",
           "radialaxis": {
            "gridcolor": "white",
            "linecolor": "white",
            "ticks": ""
           }
          },
          "scene": {
           "xaxis": {
            "backgroundcolor": "#E5ECF6",
            "gridcolor": "white",
            "gridwidth": 2,
            "linecolor": "white",
            "showbackground": true,
            "ticks": "",
            "zerolinecolor": "white"
           },
           "yaxis": {
            "backgroundcolor": "#E5ECF6",
            "gridcolor": "white",
            "gridwidth": 2,
            "linecolor": "white",
            "showbackground": true,
            "ticks": "",
            "zerolinecolor": "white"
           },
           "zaxis": {
            "backgroundcolor": "#E5ECF6",
            "gridcolor": "white",
            "gridwidth": 2,
            "linecolor": "white",
            "showbackground": true,
            "ticks": "",
            "zerolinecolor": "white"
           }
          },
          "shapedefaults": {
           "line": {
            "color": "#2a3f5f"
           }
          },
          "ternary": {
           "aaxis": {
            "gridcolor": "white",
            "linecolor": "white",
            "ticks": ""
           },
           "baxis": {
            "gridcolor": "white",
            "linecolor": "white",
            "ticks": ""
           },
           "bgcolor": "#E5ECF6",
           "caxis": {
            "gridcolor": "white",
            "linecolor": "white",
            "ticks": ""
           }
          },
          "title": {
           "x": 0.05
          },
          "xaxis": {
           "automargin": true,
           "gridcolor": "white",
           "linecolor": "white",
           "ticks": "",
           "title": {
            "standoff": 15
           },
           "zerolinecolor": "white",
           "zerolinewidth": 2
          },
          "yaxis": {
           "automargin": true,
           "gridcolor": "white",
           "linecolor": "white",
           "ticks": "",
           "title": {
            "standoff": 15
           },
           "zerolinecolor": "white",
           "zerolinewidth": 2
          }
         }
        },
        "title": {
         "text": "Распределение трафика роботов по источникам"
        }
       }
      }
     },
     "metadata": {},
     "output_type": "display_data"
    }
   ],
   "source": [
    "import plotly.graph_objects as go\n",
    "\n",
    "\n",
    "labels = ['Search engine traffic','Direct traffic','Link traffic','Social network traffic']\n",
    "values = [725,195,30,11]\n",
    "\n",
    "fig = go.Figure(data=[go.Pie(labels=labels, values=values, textinfo='percent' )])#pull=[0, 0, 0, 0.4]\n",
    "fig.update_layout(title_text='Распределение трафика роботов по источникам')\n",
    "fig.show()"
   ]
  },
  {
   "cell_type": "code",
   "execution_count": 45,
   "metadata": {},
   "outputs": [
    {
     "data": {
      "image/png": "[encoded data removed]",
      "text/plain": [
       "<Figure size 400x400 with 1 Axes>"
      ]
     },
     "metadata": {},
     "output_type": "display_data"
    }
   ],
   "source": [
    "#создадим переменные для построения графика\n",
    "total_visits = metrika_df['VISITS'].sum()\n",
    "total_robots = metrika_df['ROBOTS'].sum()\n",
    "#строим график\n",
    "pivot_df = [total_visits, total_robots]\n",
    "labels = ['%визиты всех пользователей', '% визиты роботов']\n",
    "fig = plt.figure(figsize=(4,4))\n",
    "axes = fig.add_axes([0,0,1,1])\n",
    "axes.pie(\n",
    "    pivot_df, \n",
    "    labels = labels, \n",
    "    colors = ( \"green\", \"red\"),\n",
    "    shadow = True,  \n",
    "    autopct='%1.1f%%',\n",
    "    #startangle=120, \n",
    "    explode = [0.2, 0])\n",
    "\n",
    "axes.set_title('Соотношение визитов всех пользователей к визитам роботов ', fontsize=15)\n",
    "plt.axis('equal')\n",
    "plt.show()"
   ]
  },
  {
   "attachments": {},
   "cell_type": "markdown",
   "metadata": {},
   "source": [
    "## Вывод:\n",
    "#### Произведен анализ посещений сайта за период с 01.09.2020 по 30.09.2020 г. Было выявлено, что за отведенный отрезок времени общее количество пользователей в том числи и роботов составило 4315 раз. Из них 962 раза произвели визиты роботы, их процентная доля составляет - 22.29% от всех пользователей.Остальные 3353 раза посетили люди, в процентах - 77.71%.\n",
    "\n",
    "### Что касаемо источников трафика, то у роботов и у людей популярность каналов совпадает. Ниболее популярный источник 'Search engine traffic', а наимение популярный 'Recommendation system traffic'."
   ]
  },
  {
   "attachments": {},
   "cell_type": "markdown",
   "metadata": {},
   "source": [
    "<font size=\"5\" color=\"yellow\">Подкорректируем таблицу <b></font>"
   ]
  },
  {
   "cell_type": "code",
   "execution_count": 46,
   "metadata": {},
   "outputs": [],
   "source": [
    "#Копируем таблицу, на тот случай если что-то пойдет не так\n",
    "metrika_df2 = metrika_df.copy()"
   ]
  },
  {
   "cell_type": "code",
   "execution_count": 47,
   "metadata": {},
   "outputs": [
    {
     "data": {
      "text/html": [
       "<div>\n",
       "<style scoped>\n",
       "    .dataframe tbody tr th:only-of-type {\n",
       "        vertical-align: middle;\n",
       "    }\n",
       "\n",
       "    .dataframe tbody tr th {\n",
       "        vertical-align: top;\n",
       "    }\n",
       "\n",
       "    .dataframe thead th {\n",
       "        text-align: right;\n",
       "    }\n",
       "</style>\n",
       "<table border=\"1\" class=\"dataframe\">\n",
       "  <thead>\n",
       "    <tr style=\"text-align: right;\">\n",
       "      <th>TRAFFIC SOURCE</th>\n",
       "      <th>Cached page traffic</th>\n",
       "      <th>Direct traffic</th>\n",
       "      <th>Internal traffic</th>\n",
       "      <th>Link traffic</th>\n",
       "      <th>Recommendation system traffic</th>\n",
       "      <th>Search engine traffic</th>\n",
       "      <th>Social network traffic</th>\n",
       "    </tr>\n",
       "    <tr>\n",
       "      <th>TIME</th>\n",
       "      <th></th>\n",
       "      <th></th>\n",
       "      <th></th>\n",
       "      <th></th>\n",
       "      <th></th>\n",
       "      <th></th>\n",
       "      <th></th>\n",
       "    </tr>\n",
       "  </thead>\n",
       "  <tbody>\n",
       "    <tr>\n",
       "      <th>00:00</th>\n",
       "      <td>0</td>\n",
       "      <td>2</td>\n",
       "      <td>0</td>\n",
       "      <td>0</td>\n",
       "      <td>0</td>\n",
       "      <td>17</td>\n",
       "      <td>0</td>\n",
       "    </tr>\n",
       "    <tr>\n",
       "      <th>01:00</th>\n",
       "      <td>1</td>\n",
       "      <td>4</td>\n",
       "      <td>0</td>\n",
       "      <td>0</td>\n",
       "      <td>0</td>\n",
       "      <td>8</td>\n",
       "      <td>0</td>\n",
       "    </tr>\n",
       "    <tr>\n",
       "      <th>02:00</th>\n",
       "      <td>0</td>\n",
       "      <td>2</td>\n",
       "      <td>0</td>\n",
       "      <td>0</td>\n",
       "      <td>0</td>\n",
       "      <td>5</td>\n",
       "      <td>0</td>\n",
       "    </tr>\n",
       "    <tr>\n",
       "      <th>03:00</th>\n",
       "      <td>0</td>\n",
       "      <td>2</td>\n",
       "      <td>0</td>\n",
       "      <td>1</td>\n",
       "      <td>0</td>\n",
       "      <td>3</td>\n",
       "      <td>0</td>\n",
       "    </tr>\n",
       "    <tr>\n",
       "      <th>04:00</th>\n",
       "      <td>0</td>\n",
       "      <td>3</td>\n",
       "      <td>0</td>\n",
       "      <td>0</td>\n",
       "      <td>0</td>\n",
       "      <td>3</td>\n",
       "      <td>0</td>\n",
       "    </tr>\n",
       "    <tr>\n",
       "      <th>05:00</th>\n",
       "      <td>0</td>\n",
       "      <td>3</td>\n",
       "      <td>0</td>\n",
       "      <td>0</td>\n",
       "      <td>0</td>\n",
       "      <td>1</td>\n",
       "      <td>0</td>\n",
       "    </tr>\n",
       "    <tr>\n",
       "      <th>06:00</th>\n",
       "      <td>0</td>\n",
       "      <td>3</td>\n",
       "      <td>0</td>\n",
       "      <td>2</td>\n",
       "      <td>0</td>\n",
       "      <td>3</td>\n",
       "      <td>0</td>\n",
       "    </tr>\n",
       "    <tr>\n",
       "      <th>07:00</th>\n",
       "      <td>0</td>\n",
       "      <td>5</td>\n",
       "      <td>0</td>\n",
       "      <td>1</td>\n",
       "      <td>0</td>\n",
       "      <td>6</td>\n",
       "      <td>0</td>\n",
       "    </tr>\n",
       "    <tr>\n",
       "      <th>08:00</th>\n",
       "      <td>0</td>\n",
       "      <td>6</td>\n",
       "      <td>0</td>\n",
       "      <td>1</td>\n",
       "      <td>0</td>\n",
       "      <td>28</td>\n",
       "      <td>1</td>\n",
       "    </tr>\n",
       "    <tr>\n",
       "      <th>09:00</th>\n",
       "      <td>0</td>\n",
       "      <td>13</td>\n",
       "      <td>0</td>\n",
       "      <td>1</td>\n",
       "      <td>0</td>\n",
       "      <td>36</td>\n",
       "      <td>1</td>\n",
       "    </tr>\n",
       "    <tr>\n",
       "      <th>10:00</th>\n",
       "      <td>0</td>\n",
       "      <td>10</td>\n",
       "      <td>0</td>\n",
       "      <td>4</td>\n",
       "      <td>0</td>\n",
       "      <td>37</td>\n",
       "      <td>0</td>\n",
       "    </tr>\n",
       "    <tr>\n",
       "      <th>11:00</th>\n",
       "      <td>0</td>\n",
       "      <td>13</td>\n",
       "      <td>0</td>\n",
       "      <td>2</td>\n",
       "      <td>0</td>\n",
       "      <td>55</td>\n",
       "      <td>0</td>\n",
       "    </tr>\n",
       "    <tr>\n",
       "      <th>12:00</th>\n",
       "      <td>0</td>\n",
       "      <td>16</td>\n",
       "      <td>0</td>\n",
       "      <td>1</td>\n",
       "      <td>0</td>\n",
       "      <td>57</td>\n",
       "      <td>1</td>\n",
       "    </tr>\n",
       "    <tr>\n",
       "      <th>13:00</th>\n",
       "      <td>0</td>\n",
       "      <td>15</td>\n",
       "      <td>0</td>\n",
       "      <td>1</td>\n",
       "      <td>0</td>\n",
       "      <td>62</td>\n",
       "      <td>2</td>\n",
       "    </tr>\n",
       "    <tr>\n",
       "      <th>14:00</th>\n",
       "      <td>0</td>\n",
       "      <td>15</td>\n",
       "      <td>0</td>\n",
       "      <td>3</td>\n",
       "      <td>0</td>\n",
       "      <td>56</td>\n",
       "      <td>0</td>\n",
       "    </tr>\n",
       "    <tr>\n",
       "      <th>15:00</th>\n",
       "      <td>0</td>\n",
       "      <td>6</td>\n",
       "      <td>0</td>\n",
       "      <td>1</td>\n",
       "      <td>0</td>\n",
       "      <td>63</td>\n",
       "      <td>1</td>\n",
       "    </tr>\n",
       "    <tr>\n",
       "      <th>16:00</th>\n",
       "      <td>0</td>\n",
       "      <td>10</td>\n",
       "      <td>0</td>\n",
       "      <td>2</td>\n",
       "      <td>0</td>\n",
       "      <td>63</td>\n",
       "      <td>0</td>\n",
       "    </tr>\n",
       "    <tr>\n",
       "      <th>17:00</th>\n",
       "      <td>0</td>\n",
       "      <td>10</td>\n",
       "      <td>0</td>\n",
       "      <td>3</td>\n",
       "      <td>0</td>\n",
       "      <td>53</td>\n",
       "      <td>0</td>\n",
       "    </tr>\n",
       "    <tr>\n",
       "      <th>18:00</th>\n",
       "      <td>0</td>\n",
       "      <td>10</td>\n",
       "      <td>0</td>\n",
       "      <td>1</td>\n",
       "      <td>0</td>\n",
       "      <td>30</td>\n",
       "      <td>0</td>\n",
       "    </tr>\n",
       "    <tr>\n",
       "      <th>19:00</th>\n",
       "      <td>0</td>\n",
       "      <td>11</td>\n",
       "      <td>0</td>\n",
       "      <td>0</td>\n",
       "      <td>0</td>\n",
       "      <td>37</td>\n",
       "      <td>0</td>\n",
       "    </tr>\n",
       "    <tr>\n",
       "      <th>20:00</th>\n",
       "      <td>0</td>\n",
       "      <td>8</td>\n",
       "      <td>0</td>\n",
       "      <td>2</td>\n",
       "      <td>0</td>\n",
       "      <td>26</td>\n",
       "      <td>0</td>\n",
       "    </tr>\n",
       "    <tr>\n",
       "      <th>21:00</th>\n",
       "      <td>0</td>\n",
       "      <td>14</td>\n",
       "      <td>0</td>\n",
       "      <td>1</td>\n",
       "      <td>0</td>\n",
       "      <td>27</td>\n",
       "      <td>1</td>\n",
       "    </tr>\n",
       "    <tr>\n",
       "      <th>22:00</th>\n",
       "      <td>0</td>\n",
       "      <td>6</td>\n",
       "      <td>0</td>\n",
       "      <td>2</td>\n",
       "      <td>0</td>\n",
       "      <td>29</td>\n",
       "      <td>3</td>\n",
       "    </tr>\n",
       "    <tr>\n",
       "      <th>23:00</th>\n",
       "      <td>0</td>\n",
       "      <td>8</td>\n",
       "      <td>0</td>\n",
       "      <td>1</td>\n",
       "      <td>0</td>\n",
       "      <td>20</td>\n",
       "      <td>1</td>\n",
       "    </tr>\n",
       "  </tbody>\n",
       "</table>\n",
       "</div>"
      ],
      "text/plain": [
       "TRAFFIC SOURCE  Cached page traffic  Direct traffic  Internal traffic   \n",
       "TIME                                                                    \n",
       "00:00                             0               2                 0  \\\n",
       "01:00                             1               4                 0   \n",
       "02:00                             0               2                 0   \n",
       "03:00                             0               2                 0   \n",
       "04:00                             0               3                 0   \n",
       "05:00                             0               3                 0   \n",
       "06:00                             0               3                 0   \n",
       "07:00                             0               5                 0   \n",
       "08:00                             0               6                 0   \n",
       "09:00                             0              13                 0   \n",
       "10:00                             0              10                 0   \n",
       "11:00                             0              13                 0   \n",
       "12:00                             0              16                 0   \n",
       "13:00                             0              15                 0   \n",
       "14:00                             0              15                 0   \n",
       "15:00                             0               6                 0   \n",
       "16:00                             0              10                 0   \n",
       "17:00                             0              10                 0   \n",
       "18:00                             0              10                 0   \n",
       "19:00                             0              11                 0   \n",
       "20:00                             0               8                 0   \n",
       "21:00                             0              14                 0   \n",
       "22:00                             0               6                 0   \n",
       "23:00                             0               8                 0   \n",
       "\n",
       "TRAFFIC SOURCE  Link traffic  Recommendation system traffic   \n",
       "TIME                                                          \n",
       "00:00                      0                              0  \\\n",
       "01:00                      0                              0   \n",
       "02:00                      0                              0   \n",
       "03:00                      1                              0   \n",
       "04:00                      0                              0   \n",
       "05:00                      0                              0   \n",
       "06:00                      2                              0   \n",
       "07:00                      1                              0   \n",
       "08:00                      1                              0   \n",
       "09:00                      1                              0   \n",
       "10:00                      4                              0   \n",
       "11:00                      2                              0   \n",
       "12:00                      1                              0   \n",
       "13:00                      1                              0   \n",
       "14:00                      3                              0   \n",
       "15:00                      1                              0   \n",
       "16:00                      2                              0   \n",
       "17:00                      3                              0   \n",
       "18:00                      1                              0   \n",
       "19:00                      0                              0   \n",
       "20:00                      2                              0   \n",
       "21:00                      1                              0   \n",
       "22:00                      2                              0   \n",
       "23:00                      1                              0   \n",
       "\n",
       "TRAFFIC SOURCE  Search engine traffic  Social network traffic  \n",
       "TIME                                                           \n",
       "00:00                              17                       0  \n",
       "01:00                               8                       0  \n",
       "02:00                               5                       0  \n",
       "03:00                               3                       0  \n",
       "04:00                               3                       0  \n",
       "05:00                               1                       0  \n",
       "06:00                               3                       0  \n",
       "07:00                               6                       0  \n",
       "08:00                              28                       1  \n",
       "09:00                              36                       1  \n",
       "10:00                              37                       0  \n",
       "11:00                              55                       0  \n",
       "12:00                              57                       1  \n",
       "13:00                              62                       2  \n",
       "14:00                              56                       0  \n",
       "15:00                              63                       1  \n",
       "16:00                              63                       0  \n",
       "17:00                              53                       0  \n",
       "18:00                              30                       0  \n",
       "19:00                              37                       0  \n",
       "20:00                              26                       0  \n",
       "21:00                              27                       1  \n",
       "22:00                              29                       3  \n",
       "23:00                              20                       1  "
      ]
     },
     "execution_count": 47,
     "metadata": {},
     "output_type": "execute_result"
    }
   ],
   "source": [
    "#Строим сводную таблицу, для того чтобы выяснить: Сколько визитов осуществлялось роботами, по каждому трафику за разный промежуток времени\n",
    "pivot2_df = metrika_df2.pivot_table(\n",
    "  index = 'TIME',\n",
    "  columns = 'TRAFFIC SOURCE',\n",
    "  values = 'ROBOTS',\n",
    "  aggfunc= 'sum', \n",
    "  fill_value = 0\n",
    ")\n",
    "pivot2_df"
   ]
  },
  {
   "cell_type": "code",
   "execution_count": 48,
   "metadata": {},
   "outputs": [
    {
     "data": {
      "text/plain": [
       "TRAFFIC SOURCE\n",
       "Cached page traffic                1\n",
       "Direct traffic                   195\n",
       "Internal traffic                   0\n",
       "Link traffic                      30\n",
       "Recommendation system traffic      0\n",
       "Search engine traffic            725\n",
       "Social network traffic            11\n",
       "dtype: int64"
      ]
     },
     "execution_count": 48,
     "metadata": {},
     "output_type": "execute_result"
    }
   ],
   "source": [
    "#Произведем расчет приминив агрегированную функцию SUM()\n",
    "pivot2_df.sum()"
   ]
  },
  {
   "attachments": {},
   "cell_type": "markdown",
   "metadata": {},
   "source": [
    "## *2.Определить, с каких источников и в какое время суток чаще всего заходят роботы.*"
   ]
  },
  {
   "cell_type": "code",
   "execution_count": 49,
   "metadata": {},
   "outputs": [
    {
     "data": {
      "text/html": [
       "<div>\n",
       "<style scoped>\n",
       "    .dataframe tbody tr th:only-of-type {\n",
       "        vertical-align: middle;\n",
       "    }\n",
       "\n",
       "    .dataframe tbody tr th {\n",
       "        vertical-align: top;\n",
       "    }\n",
       "\n",
       "    .dataframe thead th {\n",
       "        text-align: right;\n",
       "    }\n",
       "</style>\n",
       "<table border=\"1\" class=\"dataframe\">\n",
       "  <thead>\n",
       "    <tr style=\"text-align: right;\">\n",
       "      <th>TRAFFIC SOURCE</th>\n",
       "      <th>Cached page traffic</th>\n",
       "      <th>Direct traffic</th>\n",
       "      <th>Internal traffic</th>\n",
       "      <th>Link traffic</th>\n",
       "      <th>Recommendation system traffic</th>\n",
       "      <th>Search engine traffic</th>\n",
       "      <th>Social network traffic</th>\n",
       "      <th>TOTAL TIME</th>\n",
       "    </tr>\n",
       "    <tr>\n",
       "      <th>TIME</th>\n",
       "      <th></th>\n",
       "      <th></th>\n",
       "      <th></th>\n",
       "      <th></th>\n",
       "      <th></th>\n",
       "      <th></th>\n",
       "      <th></th>\n",
       "      <th></th>\n",
       "    </tr>\n",
       "  </thead>\n",
       "  <tbody>\n",
       "    <tr>\n",
       "      <th>00:00</th>\n",
       "      <td>0</td>\n",
       "      <td>2</td>\n",
       "      <td>0</td>\n",
       "      <td>0</td>\n",
       "      <td>0</td>\n",
       "      <td>17</td>\n",
       "      <td>0</td>\n",
       "      <td>19</td>\n",
       "    </tr>\n",
       "    <tr>\n",
       "      <th>01:00</th>\n",
       "      <td>1</td>\n",
       "      <td>4</td>\n",
       "      <td>0</td>\n",
       "      <td>0</td>\n",
       "      <td>0</td>\n",
       "      <td>8</td>\n",
       "      <td>0</td>\n",
       "      <td>13</td>\n",
       "    </tr>\n",
       "    <tr>\n",
       "      <th>02:00</th>\n",
       "      <td>0</td>\n",
       "      <td>2</td>\n",
       "      <td>0</td>\n",
       "      <td>0</td>\n",
       "      <td>0</td>\n",
       "      <td>5</td>\n",
       "      <td>0</td>\n",
       "      <td>7</td>\n",
       "    </tr>\n",
       "    <tr>\n",
       "      <th>03:00</th>\n",
       "      <td>0</td>\n",
       "      <td>2</td>\n",
       "      <td>0</td>\n",
       "      <td>1</td>\n",
       "      <td>0</td>\n",
       "      <td>3</td>\n",
       "      <td>0</td>\n",
       "      <td>6</td>\n",
       "    </tr>\n",
       "    <tr>\n",
       "      <th>04:00</th>\n",
       "      <td>0</td>\n",
       "      <td>3</td>\n",
       "      <td>0</td>\n",
       "      <td>0</td>\n",
       "      <td>0</td>\n",
       "      <td>3</td>\n",
       "      <td>0</td>\n",
       "      <td>6</td>\n",
       "    </tr>\n",
       "    <tr>\n",
       "      <th>05:00</th>\n",
       "      <td>0</td>\n",
       "      <td>3</td>\n",
       "      <td>0</td>\n",
       "      <td>0</td>\n",
       "      <td>0</td>\n",
       "      <td>1</td>\n",
       "      <td>0</td>\n",
       "      <td>4</td>\n",
       "    </tr>\n",
       "    <tr>\n",
       "      <th>06:00</th>\n",
       "      <td>0</td>\n",
       "      <td>3</td>\n",
       "      <td>0</td>\n",
       "      <td>2</td>\n",
       "      <td>0</td>\n",
       "      <td>3</td>\n",
       "      <td>0</td>\n",
       "      <td>8</td>\n",
       "    </tr>\n",
       "    <tr>\n",
       "      <th>07:00</th>\n",
       "      <td>0</td>\n",
       "      <td>5</td>\n",
       "      <td>0</td>\n",
       "      <td>1</td>\n",
       "      <td>0</td>\n",
       "      <td>6</td>\n",
       "      <td>0</td>\n",
       "      <td>12</td>\n",
       "    </tr>\n",
       "    <tr>\n",
       "      <th>08:00</th>\n",
       "      <td>0</td>\n",
       "      <td>6</td>\n",
       "      <td>0</td>\n",
       "      <td>1</td>\n",
       "      <td>0</td>\n",
       "      <td>28</td>\n",
       "      <td>1</td>\n",
       "      <td>36</td>\n",
       "    </tr>\n",
       "    <tr>\n",
       "      <th>09:00</th>\n",
       "      <td>0</td>\n",
       "      <td>13</td>\n",
       "      <td>0</td>\n",
       "      <td>1</td>\n",
       "      <td>0</td>\n",
       "      <td>36</td>\n",
       "      <td>1</td>\n",
       "      <td>51</td>\n",
       "    </tr>\n",
       "    <tr>\n",
       "      <th>10:00</th>\n",
       "      <td>0</td>\n",
       "      <td>10</td>\n",
       "      <td>0</td>\n",
       "      <td>4</td>\n",
       "      <td>0</td>\n",
       "      <td>37</td>\n",
       "      <td>0</td>\n",
       "      <td>51</td>\n",
       "    </tr>\n",
       "    <tr>\n",
       "      <th>11:00</th>\n",
       "      <td>0</td>\n",
       "      <td>13</td>\n",
       "      <td>0</td>\n",
       "      <td>2</td>\n",
       "      <td>0</td>\n",
       "      <td>55</td>\n",
       "      <td>0</td>\n",
       "      <td>70</td>\n",
       "    </tr>\n",
       "    <tr>\n",
       "      <th>12:00</th>\n",
       "      <td>0</td>\n",
       "      <td>16</td>\n",
       "      <td>0</td>\n",
       "      <td>1</td>\n",
       "      <td>0</td>\n",
       "      <td>57</td>\n",
       "      <td>1</td>\n",
       "      <td>75</td>\n",
       "    </tr>\n",
       "    <tr>\n",
       "      <th>13:00</th>\n",
       "      <td>0</td>\n",
       "      <td>15</td>\n",
       "      <td>0</td>\n",
       "      <td>1</td>\n",
       "      <td>0</td>\n",
       "      <td>62</td>\n",
       "      <td>2</td>\n",
       "      <td>80</td>\n",
       "    </tr>\n",
       "    <tr>\n",
       "      <th>14:00</th>\n",
       "      <td>0</td>\n",
       "      <td>15</td>\n",
       "      <td>0</td>\n",
       "      <td>3</td>\n",
       "      <td>0</td>\n",
       "      <td>56</td>\n",
       "      <td>0</td>\n",
       "      <td>74</td>\n",
       "    </tr>\n",
       "    <tr>\n",
       "      <th>15:00</th>\n",
       "      <td>0</td>\n",
       "      <td>6</td>\n",
       "      <td>0</td>\n",
       "      <td>1</td>\n",
       "      <td>0</td>\n",
       "      <td>63</td>\n",
       "      <td>1</td>\n",
       "      <td>71</td>\n",
       "    </tr>\n",
       "    <tr>\n",
       "      <th>16:00</th>\n",
       "      <td>0</td>\n",
       "      <td>10</td>\n",
       "      <td>0</td>\n",
       "      <td>2</td>\n",
       "      <td>0</td>\n",
       "      <td>63</td>\n",
       "      <td>0</td>\n",
       "      <td>75</td>\n",
       "    </tr>\n",
       "    <tr>\n",
       "      <th>17:00</th>\n",
       "      <td>0</td>\n",
       "      <td>10</td>\n",
       "      <td>0</td>\n",
       "      <td>3</td>\n",
       "      <td>0</td>\n",
       "      <td>53</td>\n",
       "      <td>0</td>\n",
       "      <td>66</td>\n",
       "    </tr>\n",
       "    <tr>\n",
       "      <th>18:00</th>\n",
       "      <td>0</td>\n",
       "      <td>10</td>\n",
       "      <td>0</td>\n",
       "      <td>1</td>\n",
       "      <td>0</td>\n",
       "      <td>30</td>\n",
       "      <td>0</td>\n",
       "      <td>41</td>\n",
       "    </tr>\n",
       "    <tr>\n",
       "      <th>19:00</th>\n",
       "      <td>0</td>\n",
       "      <td>11</td>\n",
       "      <td>0</td>\n",
       "      <td>0</td>\n",
       "      <td>0</td>\n",
       "      <td>37</td>\n",
       "      <td>0</td>\n",
       "      <td>48</td>\n",
       "    </tr>\n",
       "    <tr>\n",
       "      <th>20:00</th>\n",
       "      <td>0</td>\n",
       "      <td>8</td>\n",
       "      <td>0</td>\n",
       "      <td>2</td>\n",
       "      <td>0</td>\n",
       "      <td>26</td>\n",
       "      <td>0</td>\n",
       "      <td>36</td>\n",
       "    </tr>\n",
       "    <tr>\n",
       "      <th>21:00</th>\n",
       "      <td>0</td>\n",
       "      <td>14</td>\n",
       "      <td>0</td>\n",
       "      <td>1</td>\n",
       "      <td>0</td>\n",
       "      <td>27</td>\n",
       "      <td>1</td>\n",
       "      <td>43</td>\n",
       "    </tr>\n",
       "    <tr>\n",
       "      <th>22:00</th>\n",
       "      <td>0</td>\n",
       "      <td>6</td>\n",
       "      <td>0</td>\n",
       "      <td>2</td>\n",
       "      <td>0</td>\n",
       "      <td>29</td>\n",
       "      <td>3</td>\n",
       "      <td>40</td>\n",
       "    </tr>\n",
       "    <tr>\n",
       "      <th>23:00</th>\n",
       "      <td>0</td>\n",
       "      <td>8</td>\n",
       "      <td>0</td>\n",
       "      <td>1</td>\n",
       "      <td>0</td>\n",
       "      <td>20</td>\n",
       "      <td>1</td>\n",
       "      <td>30</td>\n",
       "    </tr>\n",
       "  </tbody>\n",
       "</table>\n",
       "</div>"
      ],
      "text/plain": [
       "TRAFFIC SOURCE  Cached page traffic  Direct traffic  Internal traffic   \n",
       "TIME                                                                    \n",
       "00:00                             0               2                 0  \\\n",
       "01:00                             1               4                 0   \n",
       "02:00                             0               2                 0   \n",
       "03:00                             0               2                 0   \n",
       "04:00                             0               3                 0   \n",
       "05:00                             0               3                 0   \n",
       "06:00                             0               3                 0   \n",
       "07:00                             0               5                 0   \n",
       "08:00                             0               6                 0   \n",
       "09:00                             0              13                 0   \n",
       "10:00                             0              10                 0   \n",
       "11:00                             0              13                 0   \n",
       "12:00                             0              16                 0   \n",
       "13:00                             0              15                 0   \n",
       "14:00                             0              15                 0   \n",
       "15:00                             0               6                 0   \n",
       "16:00                             0              10                 0   \n",
       "17:00                             0              10                 0   \n",
       "18:00                             0              10                 0   \n",
       "19:00                             0              11                 0   \n",
       "20:00                             0               8                 0   \n",
       "21:00                             0              14                 0   \n",
       "22:00                             0               6                 0   \n",
       "23:00                             0               8                 0   \n",
       "\n",
       "TRAFFIC SOURCE  Link traffic  Recommendation system traffic   \n",
       "TIME                                                          \n",
       "00:00                      0                              0  \\\n",
       "01:00                      0                              0   \n",
       "02:00                      0                              0   \n",
       "03:00                      1                              0   \n",
       "04:00                      0                              0   \n",
       "05:00                      0                              0   \n",
       "06:00                      2                              0   \n",
       "07:00                      1                              0   \n",
       "08:00                      1                              0   \n",
       "09:00                      1                              0   \n",
       "10:00                      4                              0   \n",
       "11:00                      2                              0   \n",
       "12:00                      1                              0   \n",
       "13:00                      1                              0   \n",
       "14:00                      3                              0   \n",
       "15:00                      1                              0   \n",
       "16:00                      2                              0   \n",
       "17:00                      3                              0   \n",
       "18:00                      1                              0   \n",
       "19:00                      0                              0   \n",
       "20:00                      2                              0   \n",
       "21:00                      1                              0   \n",
       "22:00                      2                              0   \n",
       "23:00                      1                              0   \n",
       "\n",
       "TRAFFIC SOURCE  Search engine traffic  Social network traffic  TOTAL TIME  \n",
       "TIME                                                                       \n",
       "00:00                              17                       0          19  \n",
       "01:00                               8                       0          13  \n",
       "02:00                               5                       0           7  \n",
       "03:00                               3                       0           6  \n",
       "04:00                               3                       0           6  \n",
       "05:00                               1                       0           4  \n",
       "06:00                               3                       0           8  \n",
       "07:00                               6                       0          12  \n",
       "08:00                              28                       1          36  \n",
       "09:00                              36                       1          51  \n",
       "10:00                              37                       0          51  \n",
       "11:00                              55                       0          70  \n",
       "12:00                              57                       1          75  \n",
       "13:00                              62                       2          80  \n",
       "14:00                              56                       0          74  \n",
       "15:00                              63                       1          71  \n",
       "16:00                              63                       0          75  \n",
       "17:00                              53                       0          66  \n",
       "18:00                              30                       0          41  \n",
       "19:00                              37                       0          48  \n",
       "20:00                              26                       0          36  \n",
       "21:00                              27                       1          43  \n",
       "22:00                              29                       3          40  \n",
       "23:00                              20                       1          30  "
      ]
     },
     "execution_count": 49,
     "metadata": {},
     "output_type": "execute_result"
    }
   ],
   "source": [
    "#Добавим к сформированной таблицы столбец и назовем его TOTAL TIME, в нем сосчитаем количество посещений за каждый час\n",
    "pivot2_df['TOTAL TIME'] = pivot2_df.sum(axis=1)\n",
    "pivot2_df"
   ]
  },
  {
   "cell_type": "code",
   "execution_count": 50,
   "metadata": {},
   "outputs": [
    {
     "data": {
      "image/png": "[encoded data removed]",
      "text/plain": [
       "<Figure size 1200x500 with 1 Axes>"
      ]
     },
     "metadata": {},
     "output_type": "display_data"
    }
   ],
   "source": [
    "robots = pivot2_df.groupby('TIME')['TOTAL TIME'].sum()\n",
    "robots.plot(\n",
    "    kind='bar',\n",
    "    figsize=(12, 5),\n",
    "    title='Количество визитов роботов по каждому трафику за один час',\n",
    "    ylabel='Количество визитов',\n",
    "    grid = True,\n",
    "    rot=45,\n",
    "    #color='red',\n",
    "    lw=3\n",
    ");"
   ]
  },
  {
   "attachments": {},
   "cell_type": "markdown",
   "metadata": {},
   "source": [
    "## Вывод:\n",
    "#### Наиболее активное время для посещения у роботов с 11:00 до 17:00. Пик посещаемости происходит в 13.00 дня (80 посещений) \n",
    "#### Менее всего сайт посещают роботы с 00:00 до 07:00. Отсюда можно заключить, что роботы предпочитают ночью спать."
   ]
  },
  {
   "attachments": {},
   "cell_type": "markdown",
   "metadata": {},
   "source": [
    "<font size=\"5\" color=\"yellow\">Тренировочный график в plotly.express<b>"
   ]
  },
  {
   "cell_type": "code",
   "execution_count": 51,
   "metadata": {},
   "outputs": [
    {
     "data": {
      "application/vnd.plotly.v1+json": {
       "config": {
        "plotlyServerURL": "https://plot.ly"
       },
       "data": [
        {
         "alignmentgroup": "True",
         "hovertemplate": "TRAFFIC SOURCE=TOTAL TIME<br>TIME=%{x}<br>value=%{y}<extra></extra>",
         "legendgroup": "TOTAL TIME",
         "marker": {
          "color": "#636efa",
          "pattern": {
           "shape": ""
          }
         },
         "name": "TOTAL TIME",
         "offsetgroup": "TOTAL TIME",
         "orientation": "v",
         "showlegend": true,
         "textposition": "auto",
         "type": "bar",
         "x": [
          "00:00",
          "01:00",
          "02:00",
          "03:00",
          "04:00",
          "05:00",
          "06:00",
          "07:00",
          "08:00",
          "09:00",
          "10:00",
          "11:00",
          "12:00",
          "13:00",
          "14:00",
          "15:00",
          "16:00",
          "17:00",
          "18:00",
          "19:00",
          "20:00",
          "21:00",
          "22:00",
          "23:00"
         ],
         "xaxis": "x",
         "y": [
          19,
          13,
          7,
          6,
          6,
          4,
          8,
          12,
          36,
          51,
          51,
          70,
          75,
          80,
          74,
          71,
          75,
          66,
          41,
          48,
          36,
          43,
          40,
          30
         ],
         "yaxis": "y"
        }
       ],
       "layout": {
        "barmode": "relative",
        "height": 500,
        "legend": {
         "title": {
          "text": "TRAFFIC SOURCE"
         },
         "tracegroupgap": 0
        },
        "template": {
         "data": {
          "bar": [
           {
            "error_x": {
             "color": "#2a3f5f"
            },
            "error_y": {
             "color": "#2a3f5f"
            },
            "marker": {
             "line": {
              "color": "#E5ECF6",
              "width": 0.5
             },
             "pattern": {
              "fillmode": "overlay",
              "size": 10,
              "solidity": 0.2
             }
            },
            "type": "bar"
           }
          ],
          "barpolar": [
           {
            "marker": {
             "line": {
              "color": "#E5ECF6",
              "width": 0.5
             },
             "pattern": {
              "fillmode": "overlay",
              "size": 10,
              "solidity": 0.2
             }
            },
            "type": "barpolar"
           }
          ],
          "carpet": [
           {
            "aaxis": {
             "endlinecolor": "#2a3f5f",
             "gridcolor": "white",
             "linecolor": "white",
             "minorgridcolor": "white",
             "startlinecolor": "#2a3f5f"
            },
            "baxis": {
             "endlinecolor": "#2a3f5f",
             "gridcolor": "white",
             "linecolor": "white",
             "minorgridcolor": "white",
             "startlinecolor": "#2a3f5f"
            },
            "type": "carpet"
           }
          ],
          "choropleth": [
           {
            "colorbar": {
             "outlinewidth": 0,
             "ticks": ""
            },
            "type": "choropleth"
           }
          ],
          "contour": [
           {
            "colorbar": {
             "outlinewidth": 0,
             "ticks": ""
            },
            "colorscale": [
             [
              0,
              "#0d0887"
             ],
             [
              0.1111111111111111,
              "#46039f"
             ],
             [
              0.2222222222222222,
              "#7201a8"
             ],
             [
              0.3333333333333333,
              "#9c179e"
             ],
             [
              0.4444444444444444,
              "#bd3786"
             ],
             [
              0.5555555555555556,
              "#d8576b"
             ],
             [
              0.6666666666666666,
              "#ed7953"
             ],
             [
              0.7777777777777778,
              "#fb9f3a"
             ],
             [
              0.8888888888888888,
              "#fdca26"
             ],
             [
              1,
              "#f0f921"
             ]
            ],
            "type": "contour"
           }
          ],
          "contourcarpet": [
           {
            "colorbar": {
             "outlinewidth": 0,
             "ticks": ""
            },
            "type": "contourcarpet"
           }
          ],
          "heatmap": [
           {
            "colorbar": {
             "outlinewidth": 0,
             "ticks": ""
            },
            "colorscale": [
             [
              0,
              "#0d0887"
             ],
             [
              0.1111111111111111,
              "#46039f"
             ],
             [
              0.2222222222222222,
              "#7201a8"
             ],
             [
              0.3333333333333333,
              "#9c179e"
             ],
             [
              0.4444444444444444,
              "#bd3786"
             ],
             [
              0.5555555555555556,
              "#d8576b"
             ],
             [
              0.6666666666666666,
              "#ed7953"
             ],
             [
              0.7777777777777778,
              "#fb9f3a"
             ],
             [
              0.8888888888888888,
              "#fdca26"
             ],
             [
              1,
              "#f0f921"
             ]
            ],
            "type": "heatmap"
           }
          ],
          "heatmapgl": [
           {
            "colorbar": {
             "outlinewidth": 0,
             "ticks": ""
            },
            "colorscale": [
             [
              0,
              "#0d0887"
             ],
             [
              0.1111111111111111,
              "#46039f"
             ],
             [
              0.2222222222222222,
              "#7201a8"
             ],
             [
              0.3333333333333333,
              "#9c179e"
             ],
             [
              0.4444444444444444,
              "#bd3786"
             ],
             [
              0.5555555555555556,
              "#d8576b"
             ],
             [
              0.6666666666666666,
              "#ed7953"
             ],
             [
              0.7777777777777778,
              "#fb9f3a"
             ],
             [
              0.8888888888888888,
              "#fdca26"
             ],
             [
              1,
              "#f0f921"
             ]
            ],
            "type": "heatmapgl"
           }
          ],
          "histogram": [
           {
            "marker": {
             "pattern": {
              "fillmode": "overlay",
              "size": 10,
              "solidity": 0.2
             }
            },
            "type": "histogram"
           }
          ],
          "histogram2d": [
           {
            "colorbar": {
             "outlinewidth": 0,
             "ticks": ""
            },
            "colorscale": [
             [
              0,
              "#0d0887"
             ],
             [
              0.1111111111111111,
              "#46039f"
             ],
             [
              0.2222222222222222,
              "#7201a8"
             ],
             [
              0.3333333333333333,
              "#9c179e"
             ],
             [
              0.4444444444444444,
              "#bd3786"
             ],
             [
              0.5555555555555556,
              "#d8576b"
             ],
             [
              0.6666666666666666,
              "#ed7953"
             ],
             [
              0.7777777777777778,
              "#fb9f3a"
             ],
             [
              0.8888888888888888,
              "#fdca26"
             ],
             [
              1,
              "#f0f921"
             ]
            ],
            "type": "histogram2d"
           }
          ],
          "histogram2dcontour": [
           {
            "colorbar": {
             "outlinewidth": 0,
             "ticks": ""
            },
            "colorscale": [
             [
              0,
              "#0d0887"
             ],
             [
              0.1111111111111111,
              "#46039f"
             ],
             [
              0.2222222222222222,
              "#7201a8"
             ],
             [
              0.3333333333333333,
              "#9c179e"
             ],
             [
              0.4444444444444444,
              "#bd3786"
             ],
             [
              0.5555555555555556,
              "#d8576b"
             ],
             [
              0.6666666666666666,
              "#ed7953"
             ],
             [
              0.7777777777777778,
              "#fb9f3a"
             ],
             [
              0.8888888888888888,
              "#fdca26"
             ],
             [
              1,
              "#f0f921"
             ]
            ],
            "type": "histogram2dcontour"
           }
          ],
          "mesh3d": [
           {
            "colorbar": {
             "outlinewidth": 0,
             "ticks": ""
            },
            "type": "mesh3d"
           }
          ],
          "parcoords": [
           {
            "line": {
             "colorbar": {
              "outlinewidth": 0,
              "ticks": ""
             }
            },
            "type": "parcoords"
           }
          ],
          "pie": [
           {
            "automargin": true,
            "type": "pie"
           }
          ],
          "scatter": [
           {
            "fillpattern": {
             "fillmode": "overlay",
             "size": 10,
             "solidity": 0.2
            },
            "type": "scatter"
           }
          ],
          "scatter3d": [
           {
            "line": {
             "colorbar": {
              "outlinewidth": 0,
              "ticks": ""
             }
            },
            "marker": {
             "colorbar": {
              "outlinewidth": 0,
              "ticks": ""
             }
            },
            "type": "scatter3d"
           }
          ],
          "scattercarpet": [
           {
            "marker": {
             "colorbar": {
              "outlinewidth": 0,
              "ticks": ""
             }
            },
            "type": "scattercarpet"
           }
          ],
          "scattergeo": [
           {
            "marker": {
             "colorbar": {
              "outlinewidth": 0,
              "ticks": ""
             }
            },
            "type": "scattergeo"
           }
          ],
          "scattergl": [
           {
            "marker": {
             "colorbar": {
              "outlinewidth": 0,
              "ticks": ""
             }
            },
            "type": "scattergl"
           }
          ],
          "scattermapbox": [
           {
            "marker": {
             "colorbar": {
              "outlinewidth": 0,
              "ticks": ""
             }
            },
            "type": "scattermapbox"
           }
          ],
          "scatterpolar": [
           {
            "marker": {
             "colorbar": {
              "outlinewidth": 0,
              "ticks": ""
             }
            },
            "type": "scatterpolar"
           }
          ],
          "scatterpolargl": [
           {
            "marker": {
             "colorbar": {
              "outlinewidth": 0,
              "ticks": ""
             }
            },
            "type": "scatterpolargl"
           }
          ],
          "scatterternary": [
           {
            "marker": {
             "colorbar": {
              "outlinewidth": 0,
              "ticks": ""
             }
            },
            "type": "scatterternary"
           }
          ],
          "surface": [
           {
            "colorbar": {
             "outlinewidth": 0,
             "ticks": ""
            },
            "colorscale": [
             [
              0,
              "#0d0887"
             ],
             [
              0.1111111111111111,
              "#46039f"
             ],
             [
              0.2222222222222222,
              "#7201a8"
             ],
             [
              0.3333333333333333,
              "#9c179e"
             ],
             [
              0.4444444444444444,
              "#bd3786"
             ],
             [
              0.5555555555555556,
              "#d8576b"
             ],
             [
              0.6666666666666666,
              "#ed7953"
             ],
             [
              0.7777777777777778,
              "#fb9f3a"
             ],
             [
              0.8888888888888888,
              "#fdca26"
             ],
             [
              1,
              "#f0f921"
             ]
            ],
            "type": "surface"
           }
          ],
          "table": [
           {
            "cells": {
             "fill": {
              "color": "#EBF0F8"
             },
             "line": {
              "color": "white"
             }
            },
            "header": {
             "fill": {
              "color": "#C8D4E3"
             },
             "line": {
              "color": "white"
             }
            },
            "type": "table"
           }
          ]
         },
         "layout": {
          "annotationdefaults": {
           "arrowcolor": "#2a3f5f",
           "arrowhead": 0,
           "arrowwidth": 1
          },
          "autotypenumbers": "strict",
          "coloraxis": {
           "colorbar": {
            "outlinewidth": 0,
            "ticks": ""
           }
          },
          "colorscale": {
           "diverging": [
            [
             0,
             "#8e0152"
            ],
            [
             0.1,
             "#c51b7d"
            ],
            [
             0.2,
             "#de77ae"
            ],
            [
             0.3,
             "#f1b6da"
            ],
            [
             0.4,
             "#fde0ef"
            ],
            [
             0.5,
             "#f7f7f7"
            ],
            [
             0.6,
             "#e6f5d0"
            ],
            [
             0.7,
             "#b8e186"
            ],
            [
             0.8,
             "#7fbc41"
            ],
            [
             0.9,
             "#4d9221"
            ],
            [
             1,
             "#276419"
            ]
           ],
           "sequential": [
            [
             0,
             "#0d0887"
            ],
            [
             0.1111111111111111,
             "#46039f"
            ],
            [
             0.2222222222222222,
             "#7201a8"
            ],
            [
             0.3333333333333333,
             "#9c179e"
            ],
            [
             0.4444444444444444,
             "#bd3786"
            ],
            [
             0.5555555555555556,
             "#d8576b"
            ],
            [
             0.6666666666666666,
             "#ed7953"
            ],
            [
             0.7777777777777778,
             "#fb9f3a"
            ],
            [
             0.8888888888888888,
             "#fdca26"
            ],
            [
             1,
             "#f0f921"
            ]
           ],
           "sequentialminus": [
            [
             0,
             "#0d0887"
            ],
            [
             0.1111111111111111,
             "#46039f"
            ],
            [
             0.2222222222222222,
             "#7201a8"
            ],
            [
             0.3333333333333333,
             "#9c179e"
            ],
            [
             0.4444444444444444,
             "#bd3786"
            ],
            [
             0.5555555555555556,
             "#d8576b"
            ],
            [
             0.6666666666666666,
             "#ed7953"
            ],
            [
             0.7777777777777778,
             "#fb9f3a"
            ],
            [
             0.8888888888888888,
             "#fdca26"
            ],
            [
             1,
             "#f0f921"
            ]
           ]
          },
          "colorway": [
           "#636efa",
           "#EF553B",
           "#00cc96",
           "#ab63fa",
           "#FFA15A",
           "#19d3f3",
           "#FF6692",
           "#B6E880",
           "#FF97FF",
           "#FECB52"
          ],
          "font": {
           "color": "#2a3f5f"
          },
          "geo": {
           "bgcolor": "white",
           "lakecolor": "white",
           "landcolor": "#E5ECF6",
           "showlakes": true,
           "showland": true,
           "subunitcolor": "white"
          },
          "hoverlabel": {
           "align": "left"
          },
          "hovermode": "closest",
          "mapbox": {
           "style": "light"
          },
          "paper_bgcolor": "white",
          "plot_bgcolor": "#E5ECF6",
          "polar": {
           "angularaxis": {
            "gridcolor": "white",
            "linecolor": "white",
            "ticks": ""
           },
           "bgcolor": "#E5ECF6",
           "radialaxis": {
            "gridcolor": "white",
            "linecolor": "white",
            "ticks": ""
           }
          },
          "scene": {
           "xaxis": {
            "backgroundcolor": "#E5ECF6",
            "gridcolor": "white",
            "gridwidth": 2,
            "linecolor": "white",
            "showbackground": true,
            "ticks": "",
            "zerolinecolor": "white"
           },
           "yaxis": {
            "backgroundcolor": "#E5ECF6",
            "gridcolor": "white",
            "gridwidth": 2,
            "linecolor": "white",
            "showbackground": true,
            "ticks": "",
            "zerolinecolor": "white"
           },
           "zaxis": {
            "backgroundcolor": "#E5ECF6",
            "gridcolor": "white",
            "gridwidth": 2,
            "linecolor": "white",
            "showbackground": true,
            "ticks": "",
            "zerolinecolor": "white"
           }
          },
          "shapedefaults": {
           "line": {
            "color": "#2a3f5f"
           }
          },
          "ternary": {
           "aaxis": {
            "gridcolor": "white",
            "linecolor": "white",
            "ticks": ""
           },
           "baxis": {
            "gridcolor": "white",
            "linecolor": "white",
            "ticks": ""
           },
           "bgcolor": "#E5ECF6",
           "caxis": {
            "gridcolor": "white",
            "linecolor": "white",
            "ticks": ""
           }
          },
          "title": {
           "x": 0.05
          },
          "xaxis": {
           "automargin": true,
           "gridcolor": "white",
           "linecolor": "white",
           "ticks": "",
           "title": {
            "standoff": 15
           },
           "zerolinecolor": "white",
           "zerolinewidth": 2
          },
          "yaxis": {
           "automargin": true,
           "gridcolor": "white",
           "linecolor": "white",
           "ticks": "",
           "title": {
            "standoff": 15
           },
           "zerolinecolor": "white",
           "zerolinewidth": 2
          }
         }
        },
        "title": {
         "text": "Количество визитов роботов по каждому трафику за один час"
        },
        "width": 1000,
        "xaxis": {
         "anchor": "y",
         "domain": [
          0,
          1
         ],
         "title": {
          "text": "TIME"
         }
        },
        "yaxis": {
         "anchor": "x",
         "domain": [
          0,
          1
         ],
         "title": {
          "text": "value"
         }
        }
       }
      }
     },
     "metadata": {},
     "output_type": "display_data"
    }
   ],
   "source": [
    "import plotly.express as px\n",
    "robots = pivot2_df.groupby(by='TIME')[['TOTAL TIME']].sum()\n",
    "\n",
    "#строим график\n",
    "fig = px.bar(\n",
    "    data_frame=robots, #DataFrame\n",
    "    orientation='v', #ориентация графика\n",
    "    height=500, #высота\n",
    "    width=1000, #ширина\n",
    "    title='Количество визитов роботов по каждому трафику за один час' #заголовок\n",
    ")\n",
    "\n",
    "#отображаем график\n",
    "fig.show()"
   ]
  }
 ],
 "metadata": {
  "kernelspec": {
   "display_name": "Python 3",
   "language": "python",
   "name": "python3"
  },
  "language_info": {
   "codemirror_mode": {
    "name": "ipython",
    "version": 3
   },
   "file_extension": ".py",
   "mimetype": "text/x-python",
   "name": "python",
   "nbconvert_exporter": "python",
   "pygments_lexer": "ipython3",
   "version": "3.9.10"
  },
  "orig_nbformat": 4
 },
 "nbformat": 4,
 "nbformat_minor": 2
}
